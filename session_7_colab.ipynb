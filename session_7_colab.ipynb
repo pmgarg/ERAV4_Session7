{
  "nbformat": 4,
  "nbformat_minor": 0,
  "metadata": {
    "colab": {
      "provenance": [],
      "gpuType": "T4",
      "authorship_tag": "ABX9TyNT89yn5KIjMeKGc8sBHnke",
      "include_colab_link": true
    },
    "kernelspec": {
      "name": "python3",
      "display_name": "Python 3"
    },
    "language_info": {
      "name": "python"
    },
    "accelerator": "GPU"
  },
  "cells": [
    {
      "cell_type": "markdown",
      "metadata": {
        "id": "view-in-github",
        "colab_type": "text"
      },
      "source": [
        "<a href=\"https://colab.research.google.com/github/pmgarg/ERAV4_Session7/blob/main/session_7_colab.ipynb\" target=\"_parent\"><img src=\"https://colab.research.google.com/assets/colab-badge.svg\" alt=\"Open In Colab\"/></a>"
      ]
    },
    {
      "cell_type": "code",
      "execution_count": 1,
      "metadata": {
        "id": "8ixGfbjiVy3r"
      },
      "outputs": [],
      "source": [
        "import torch\n",
        "import torch.nn as nn\n",
        "import torch.nn.functional as F\n",
        "from torch.utils.data import DataLoader, Dataset\n",
        "from torchvision import datasets, transforms\n",
        "import torch.optim as optim\n",
        "from torch.optim.lr_scheduler import OneCycleLR\n",
        "from tqdm import tqdm\n",
        "import numpy as np\n",
        "import random\n",
        "from PIL import Image\n",
        "import platform\n",
        "import argparse\n",
        "import sys\n",
        "import os\n"
      ]
    },
    {
      "cell_type": "code",
      "source": [
        "DATASET = 'CIFAR-10'\n",
        "NUM_CLASSES = 10\n",
        "IMAGE_SIZE = 32\n",
        "MEAN = (0.4914, 0.4822, 0.4465)\n",
        "STD = (0.2470, 0.2435, 0.2616)\n",
        "\n",
        "INITIAL_CHANNELS = 3\n",
        "\n",
        "# Training\n",
        "BATCH_SIZE = 128\n",
        "LEARNING_RATE = 0.01\n",
        "MOMENTUM = 0.9\n",
        "WEIGHT_DECAY = 1e-4\n",
        "NUM_EPOCHS = 50\n",
        "\n",
        "# Augmentation\n",
        "USE_AUGMENTATION = True"
      ],
      "metadata": {
        "id": "NQR1PfxLXwEN"
      },
      "execution_count": 2,
      "outputs": []
    },
    {
      "cell_type": "code",
      "source": [
        "if torch.backends.mps.is_available():\n",
        "    DEVICE = 'mps'\n",
        "elif torch.cuda.is_available():\n",
        "    DEVICE = 'cuda'\n",
        "else:\n",
        "    DEVICE = 'cpu'"
      ],
      "metadata": {
        "id": "hq3KPKS8WwvI"
      },
      "execution_count": 3,
      "outputs": []
    },
    {
      "cell_type": "code",
      "source": [
        "class CutoutTransform:\n",
        "    \"\"\"Custom implementation of Cutout/CoarseDropout using torchvision\"\"\"\n",
        "    def __init__(self, n_holes=1, length=16, fill_value=None):\n",
        "        self.n_holes = n_holes\n",
        "        self.length = length\n",
        "        self.fill_value = fill_value\n",
        "\n",
        "    def __call__(self, img):\n",
        "        \"\"\"\n",
        "        Args:\n",
        "            img (PIL Image or Tensor): Image to apply cutout\n",
        "        Returns:\n",
        "            PIL Image or Tensor: Image with cutout applied\n",
        "        \"\"\"\n",
        "        if isinstance(img, Image.Image):\n",
        "            img = np.array(img)\n",
        "            was_pil = True\n",
        "        else:\n",
        "            was_pil = False\n",
        "\n",
        "        h, w = img.shape[:2]\n",
        "\n",
        "        # Use dataset mean if no fill value provided\n",
        "        if self.fill_value is None:\n",
        "            self.fill_value = [125, 122, 113]  # CIFAR-10 approximate means in 0-255 range\n",
        "\n",
        "        for _ in range(self.n_holes):\n",
        "            y = np.random.randint(h)\n",
        "            x = np.random.randint(w)\n",
        "\n",
        "            y1 = max(0, y - self.length // 2)\n",
        "            y2 = min(h, y + self.length // 2)\n",
        "            x1 = max(0, x - self.length // 2)\n",
        "            x2 = min(w, x + self.length // 2)\n",
        "\n",
        "            # Apply cutout\n",
        "            img[y1:y2, x1:x2] = self.fill_value\n",
        "\n",
        "        if was_pil:\n",
        "            return Image.fromarray(img)\n",
        "        return img\n",
        "\n",
        "\n",
        "class ShiftScaleRotate:\n",
        "    \"\"\"Custom implementation of ShiftScaleRotate using torchvision\"\"\"\n",
        "    def __init__(self, shift_limit=0.1, scale_limit=0.1, rotate_limit=15, p=0.5):\n",
        "        self.shift_limit = shift_limit\n",
        "        self.scale_limit = scale_limit\n",
        "        self.rotate_limit = rotate_limit\n",
        "        self.p = p\n",
        "\n",
        "    def __call__(self, img):\n",
        "        if random.random() > self.p:\n",
        "            return img\n",
        "\n",
        "        # Random parameters\n",
        "        angle = random.uniform(-self.rotate_limit, self.rotate_limit)\n",
        "        scale = random.uniform(1 - self.scale_limit, 1 + self.scale_limit)\n",
        "\n",
        "        # Get image dimensions\n",
        "        width, height = img.size if isinstance(img, Image.Image) else (img.shape[1], img.shape[0])\n",
        "\n",
        "        # Calculate shift\n",
        "        max_dx = self.shift_limit * width\n",
        "        max_dy = self.shift_limit * height\n",
        "        dx = random.uniform(-max_dx, max_dx)\n",
        "        dy = random.uniform(-max_dy, max_dy)\n",
        "\n",
        "        # Apply transformations using torchvision\n",
        "        if isinstance(img, Image.Image):\n",
        "            # Apply affine transformation\n",
        "            img = transforms.functional.affine(\n",
        "                img,\n",
        "                angle=angle,\n",
        "                translate=(dx, dy),\n",
        "                scale=scale,\n",
        "                shear=0\n",
        "            )\n",
        "\n",
        "        return img\n"
      ],
      "metadata": {
        "id": "wz_lSHQDYOkN"
      },
      "execution_count": 4,
      "outputs": []
    },
    {
      "cell_type": "code",
      "source": [
        "fill_value = tuple([int(m * 255) for m in MEAN])\n",
        "train_transform = transforms.Compose([\n",
        "        transforms.RandomHorizontalFlip(p=0.5),\n",
        "        ShiftScaleRotate(\n",
        "            shift_limit=0.1,\n",
        "            scale_limit=0.1,\n",
        "            rotate_limit=15,\n",
        "            p=0.5\n",
        "        ),\n",
        "        CutoutTransform(\n",
        "            n_holes=1,\n",
        "            length=16,\n",
        "            fill_value=fill_value\n",
        "        ),\n",
        "        transforms.ToTensor(),\n",
        "        transforms.Normalize(mean=MEAN, std=STD)\n",
        "    ])\n",
        "val_transform = transforms.Compose([\n",
        "        transforms.ToTensor(),\n",
        "        transforms.Normalize(mean=MEAN, std=STD)\n",
        "    ])"
      ],
      "metadata": {
        "id": "ljlIqpreXgE9"
      },
      "execution_count": 5,
      "outputs": []
    },
    {
      "cell_type": "code",
      "source": [
        "train_dataset = datasets.CIFAR10(\n",
        "        root='./data',\n",
        "        train=True,\n",
        "        transform=train_transform,\n",
        "        download=True\n",
        "    )\n",
        "\n",
        "val_dataset = datasets.CIFAR10(\n",
        "        root='./data',\n",
        "        train=False,\n",
        "        transform=val_transform,\n",
        "        download=True\n",
        "    )\n",
        "\n",
        "train_loader = DataLoader(\n",
        "        train_dataset,\n",
        "        batch_size=128,\n",
        "        shuffle=True\n",
        "    )\n",
        "\n",
        "val_loader = DataLoader(\n",
        "        val_dataset,\n",
        "        batch_size=128,\n",
        "        shuffle=False\n",
        "    )"
      ],
      "metadata": {
        "id": "U1cruVtZYwRH",
        "colab": {
          "base_uri": "https://localhost:8080/"
        },
        "outputId": "68152053-d538-4a5f-ac72-7f361d15bf71"
      },
      "execution_count": 6,
      "outputs": [
        {
          "output_type": "stream",
          "name": "stderr",
          "text": [
            "100%|██████████| 170M/170M [00:05<00:00, 29.0MB/s]\n"
          ]
        }
      ]
    },
    {
      "cell_type": "code",
      "source": [
        "class CIFAR10_CNN(nn.Module):\n",
        "    def __init__(self, num_classes=10):\n",
        "        super().__init__()\n",
        "\n",
        "        # C1: Initial features (3→16→16)\n",
        "        self.c1 = nn.Sequential(\n",
        "            nn.Conv2d(3, 16, kernel_size=3, padding=1, bias=False),\n",
        "            nn.BatchNorm2d(16),\n",
        "            nn.ReLU(inplace=True),\n",
        "            nn.Conv2d(16, 16, kernel_size=3, padding=1, bias=False),\n",
        "            nn.BatchNorm2d(16),\n",
        "            nn.ReLU(inplace=True),\n",
        "        )\n",
        "\n",
        "        # C2: Depthwise Separable (16→32)\n",
        "        self.c2 = nn.Sequential(\n",
        "            # Depthwise\n",
        "            nn.Conv2d(16, 16, kernel_size=3, padding=1, groups=16, bias=False),\n",
        "            nn.BatchNorm2d(16),\n",
        "            nn.ReLU(inplace=True),\n",
        "            # Pointwise\n",
        "            nn.Conv2d(16, 32, kernel_size=1, bias=False),\n",
        "            nn.BatchNorm2d(32),\n",
        "            nn.ReLU(inplace=True),\n",
        "            # Standard Conv\n",
        "            nn.Conv2d(32, 32, kernel_size=3, padding=1, bias=False),\n",
        "            nn.BatchNorm2d(32),\n",
        "            nn.ReLU(inplace=True),\n",
        "        )\n",
        "\n",
        "        # C3: Dilated Block (32→48)\n",
        "        self.c3 = nn.Sequential(\n",
        "            nn.Conv2d(32, 48, kernel_size=3, padding=1, bias=False),\n",
        "            nn.BatchNorm2d(48),\n",
        "            nn.ReLU(inplace=True),\n",
        "            nn.Conv2d(48, 48, kernel_size=3, padding=2, dilation=2, bias=False),\n",
        "            nn.BatchNorm2d(48),\n",
        "            nn.ReLU(inplace=True),\n",
        "            nn.Conv2d(48, 48, kernel_size=3, padding=1, bias=False),\n",
        "            nn.BatchNorm2d(48),\n",
        "            nn.ReLU(inplace=True),\n",
        "        )\n",
        "\n",
        "        # C4: High Dilation (48→64)\n",
        "        self.c4 = nn.Sequential(\n",
        "            nn.Conv2d(48, 64, kernel_size=3, padding=4, dilation=4, bias=False),\n",
        "            nn.BatchNorm2d(64),\n",
        "            nn.ReLU(inplace=True),\n",
        "            nn.Conv2d(64, 64, kernel_size=3, padding=1, bias=False),\n",
        "            nn.BatchNorm2d(64),\n",
        "            nn.ReLU(inplace=True),\n",
        "            nn.Conv2d(64, 64, kernel_size=3, padding=8, dilation=8, bias=False),\n",
        "            nn.BatchNorm2d(64),\n",
        "            nn.ReLU(inplace=True),\n",
        "            nn.Conv2d(64, 64, kernel_size=1, padding=0, bias=False),\n",
        "            nn.BatchNorm2d(64),\n",
        "            nn.ReLU(inplace=True),\n",
        "        )\n",
        "\n",
        "        self.gap = nn.AdaptiveAvgPool2d(1)\n",
        "        self.fc = nn.Linear(64, num_classes)\n",
        "\n",
        "    def forward(self, x):\n",
        "        x = self.c1(x)\n",
        "        x = self.c2(x)\n",
        "        x = self.c3(x)\n",
        "        x = self.c4(x)\n",
        "        x = self.gap(x)\n",
        "        x = x.view(x.size(0), -1)\n",
        "        return self.fc(x)\n",
        "\n",
        "    def get_receptive_field(self):\n",
        "        \"\"\"Calculate and return the total receptive field\"\"\"\n",
        "        # With the dilated convolutions:\n",
        "        # C1: RF = 5\n",
        "        # C2: RF = 9\n",
        "        # C3: RF = 17 (with dilation=2)\n",
        "        # C4: RF = 43+ (with dilation=4 and 8)\n",
        "        # Total RF > 44 ✓\n",
        "        return 45\n"
      ],
      "metadata": {
        "id": "xS-QeCJTaZeh"
      },
      "execution_count": 7,
      "outputs": []
    },
    {
      "cell_type": "code",
      "source": [
        "class Trainer:\n",
        "    \"\"\"Trainer class for the CNN model\"\"\"\n",
        "\n",
        "    def __init__(self, model):\n",
        "        self.model = model.to(DEVICE)\n",
        "        self.device = DEVICE\n",
        "\n",
        "        self.criterion = nn.CrossEntropyLoss()\n",
        "        self.optimizer = optim.SGD(\n",
        "            self.model.parameters(),\n",
        "            lr=LEARNING_RATE,\n",
        "            momentum=MOMENTUM,\n",
        "            weight_decay=WEIGHT_DECAY\n",
        "        )\n",
        "\n",
        "        self.best_accuracy = 0\n",
        "\n",
        "    def train_epoch(self, train_loader):\n",
        "        \"\"\"Train for one epoch\"\"\"\n",
        "        self.model.train()\n",
        "        running_loss = 0.0\n",
        "        correct = 0\n",
        "        total = 0\n",
        "\n",
        "        pbar = tqdm(train_loader, desc='Training')\n",
        "        for inputs, labels in pbar:\n",
        "            inputs, labels = inputs.to(self.device), labels.to(self.device)\n",
        "\n",
        "            self.optimizer.zero_grad()\n",
        "            outputs = self.model(inputs)\n",
        "            loss = self.criterion(outputs, labels)\n",
        "            loss.backward()\n",
        "            self.optimizer.step()\n",
        "\n",
        "            running_loss += loss.item()\n",
        "            _, predicted = outputs.max(1)\n",
        "            total += labels.size(0)\n",
        "            correct += predicted.eq(labels).sum().item()\n",
        "\n",
        "            pbar.set_postfix({\n",
        "                'loss': running_loss / len(pbar),\n",
        "                'acc': 100. * correct / total\n",
        "            })\n",
        "\n",
        "        return running_loss / len(train_loader), 100. * correct / total\n",
        "\n",
        "    def train_epoch_with_scheduler(self, train_loader):\n",
        "        \"\"\"Train for one epoch with scheduler step\"\"\"\n",
        "        self.model.train()\n",
        "        running_loss = 0.0\n",
        "        correct = 0\n",
        "        total = 0\n",
        "\n",
        "        pbar = tqdm(train_loader, desc='Training')\n",
        "        for inputs, labels in pbar:\n",
        "            inputs, labels = inputs.to(self.device), labels.to(self.device)\n",
        "\n",
        "            self.optimizer.zero_grad()\n",
        "            outputs = self.model(inputs)\n",
        "            loss = self.criterion(outputs, labels)\n",
        "            loss.backward()\n",
        "            self.optimizer.step()\n",
        "\n",
        "            # Step scheduler after each batch\n",
        "            if hasattr(self, 'scheduler'):\n",
        "                self.scheduler.step()\n",
        "\n",
        "            running_loss += loss.item()\n",
        "            _, predicted = outputs.max(1)\n",
        "            total += labels.size(0)\n",
        "            correct += predicted.eq(labels).sum().item()\n",
        "\n",
        "            pbar.set_postfix({\n",
        "                'loss': running_loss / len(pbar),\n",
        "                'acc': 100. * correct / total\n",
        "            })\n",
        "\n",
        "        return running_loss / len(train_loader), 100. * correct / total\n",
        "\n",
        "    def validate(self, val_loader):\n",
        "        \"\"\"Validate the model\"\"\"\n",
        "        self.model.eval()\n",
        "        running_loss = 0.0\n",
        "        correct = 0\n",
        "        total = 0\n",
        "\n",
        "        with torch.no_grad():\n",
        "            pbar = tqdm(val_loader, desc='Validation')\n",
        "            for inputs, labels in pbar:\n",
        "                inputs, labels = inputs.to(self.device), labels.to(self.device)\n",
        "\n",
        "                outputs = self.model(inputs)\n",
        "                loss = self.criterion(outputs, labels)\n",
        "\n",
        "                running_loss += loss.item()\n",
        "                _, predicted = outputs.max(1)\n",
        "                total += labels.size(0)\n",
        "                correct += predicted.eq(labels).sum().item()\n",
        "\n",
        "                pbar.set_postfix({\n",
        "                    'loss': running_loss / len(pbar),\n",
        "                    'acc': 100. * correct / total\n",
        "                })\n",
        "\n",
        "        accuracy = 100. * correct / total\n",
        "        return running_loss / len(val_loader), accuracy\n",
        "\n",
        "    def train(self, train_loader, val_loader, num_epochs):\n",
        "        \"\"\"Full training loop\"\"\"\n",
        "\n",
        "        # Setup learning rate scheduler\n",
        "        total_steps = num_epochs * len(train_loader)\n",
        "        self.scheduler = OneCycleLR(\n",
        "            self.optimizer,\n",
        "            max_lr=0.1,\n",
        "            total_steps=total_steps,\n",
        "            pct_start=0.3,\n",
        "            anneal_strategy='cos'\n",
        "        )\n",
        "\n",
        "        for epoch in range(num_epochs):\n",
        "            print(f'\\nEpoch {epoch+1}/{num_epochs}')\n",
        "\n",
        "            # Train\n",
        "            train_loss, train_acc = self.train_epoch_with_scheduler(train_loader)\n",
        "\n",
        "            # Validate\n",
        "            val_loss, val_acc = self.validate(val_loader)\n",
        "\n",
        "            print(f'Train Loss: {train_loss:.4f}, Train Acc: {train_acc:.2f}%')\n",
        "            print(f'Val Loss: {val_loss:.4f}, Val Acc: {val_acc:.2f}%')\n",
        "\n",
        "            # Save best model\n",
        "            if val_acc > self.best_accuracy:\n",
        "                self.best_accuracy = val_acc\n",
        "                self.save_checkpoint(epoch, val_acc)\n",
        "                print(f'Best model saved! Accuracy: {val_acc:.2f}%')\n",
        "\n",
        "    def save_checkpoint(self, epoch, accuracy):\n",
        "        \"\"\"Save model checkpoint\"\"\"\n",
        "        os.makedirs('./checkpoints', exist_ok=True)\n",
        "\n",
        "        checkpoint = {\n",
        "            'epoch': epoch,\n",
        "            'model_state_dict': self.model.state_dict(),\n",
        "            'optimizer_state_dict': self.optimizer.state_dict(),\n",
        "            'accuracy': accuracy,\n",
        "        }\n",
        "\n",
        "        path = os.path.join('./checkpoints', f'best_model.pth')\n",
        "        torch.save(checkpoint, path)\n"
      ],
      "metadata": {
        "id": "oT-CjwLQ1e37"
      },
      "execution_count": 8,
      "outputs": []
    },
    {
      "cell_type": "code",
      "source": [
        "def count_parameters(model):\n",
        "    \"\"\"Count the number of trainable parameters\"\"\"\n",
        "    return sum(p.numel() for p in model.parameters() if p.requires_grad)\n",
        "\n",
        "\n",
        "def calculate_receptive_field(model):\n",
        "    \"\"\"Calculate theoretical receptive field\"\"\"\n",
        "    rf = 1\n",
        "    stride = 1\n",
        "\n",
        "    # This is a simplified calculation\n",
        "    # For accurate RF, trace through each layer\n",
        "    layers_info = [\n",
        "        (3, 1, 1),  # kernel, stride, padding\n",
        "        (3, 1, 1),\n",
        "        (3, 1, 1),\n",
        "        (3, 1, 1),\n",
        "        (3, 1, 1),\n",
        "        (3, 2, 1),  # dilated conv acts like larger kernel\n",
        "        (3, 1, 1),\n",
        "        (3, 4, 1),  # dilated conv\n",
        "        (3, 1, 1),\n",
        "        (3, 8, 1),  # dilated conv\n",
        "    ]\n",
        "\n",
        "    for k, s, _ in layers_info:\n",
        "        rf = rf + (k - 1) * stride\n",
        "        stride = stride * s\n",
        "\n",
        "    return rf\n",
        "\n",
        "\n",
        "def print_model_summary(model):\n",
        "    \"\"\"Print model summary\"\"\"\n",
        "    num_params = count_parameters(model)\n",
        "    print(f\"\\n{'='*50}\")\n",
        "    print(f\"Model: CIFAR-10 Advanced CNN\")\n",
        "    print(f\"{'='*50}\")\n",
        "    print(f\"Total Parameters: {num_params:,}\")\n",
        "    print(f\"Receptive Field: {model.get_receptive_field()}\")\n",
        "    print(f\"Architecture: C1-C2-C3-C4-GAP-FC\")\n",
        "    print(f\"Depthwise Separable Conv: ✓ (in C2)\")\n",
        "    print(f\"Dilated Convolution: ✓ (in C3 and C4)\")\n",
        "    print(f\"Global Average Pooling: ✓\")\n",
        "    print(f\"Target Accuracy: 85%\")\n",
        "    print(f\"Parameter Limit: 200,000\")\n",
        "    print(f\"Parameter Check: {'✓ PASS' if num_params < 200000 else '✗ FAIL'}\")\n",
        "    print(f\"{'='*50}\\n\")"
      ],
      "metadata": {
        "id": "PoTDOKhS1sTL"
      },
      "execution_count": 9,
      "outputs": []
    },
    {
      "cell_type": "code",
      "source": [
        "    if torch.backends.mps.is_available():\n",
        "        DEVICE = 'mps'\n",
        "        print(\"Using MPS (Metal Performance Shaders) device\")\n",
        "    elif torch.cuda.is_available():\n",
        "        DEVICE = 'cuda'\n",
        "        print(\"Using CUDA device\")\n",
        "    else:\n",
        "        DEVICE = 'cpu'\n",
        "        print(\"Using CPU device\")\n",
        "\n",
        "    # Model\n",
        "    model = CIFAR10_CNN(num_classes=10)\n",
        "    print_model_summary(model)\n",
        "\n",
        "\n",
        "    # Trainer\n",
        "    trainer = Trainer(model)\n",
        "\n",
        "    # Train\n",
        "    trainer.train(train_loader, val_loader, NUM_EPOCHS)\n",
        "\n",
        "    print(f\"\\n{'='*50}\")\n",
        "    print(f\"Training Complete!\")\n",
        "    print(f\"Best Validation Accuracy: {trainer.best_accuracy:.2f}%\")\n",
        "    print(f\"{'='*50}\")"
      ],
      "metadata": {
        "colab": {
          "base_uri": "https://localhost:8080/"
        },
        "id": "fg5J6Cb6156u",
        "outputId": "87b05aa6-2fdc-4235-c2c7-96d41c708e76"
      },
      "execution_count": 10,
      "outputs": [
        {
          "metadata": {
            "tags": null
          },
          "name": "stdout",
          "output_type": "stream",
          "text": [
            "Using CUDA device\n",
            "\n",
            "==================================================\n",
            "Model: CIFAR-10 Advanced CNN\n",
            "==================================================\n",
            "Total Parameters: 175,050\n",
            "Receptive Field: 45\n",
            "Architecture: C1-C2-C3-C4-GAP-FC\n",
            "Depthwise Separable Conv: ✓ (in C2)\n",
            "Dilated Convolution: ✓ (in C3 and C4)\n",
            "Global Average Pooling: ✓\n",
            "Target Accuracy: 85%\n",
            "Parameter Limit: 200,000\n",
            "Parameter Check: ✓ PASS\n",
            "==================================================\n",
            "\n",
            "\n",
            "Epoch 1/50\n"
          ]
        },
        {
          "metadata": {
            "tags": null
          },
          "name": "stderr",
          "output_type": "stream",
          "text": [
            "Training: 100%|██████████| 391/391 [00:51<00:00,  7.56it/s, loss=1.78, acc=33.3]\n",
            "Validation: 100%|██████████| 79/79 [00:03<00:00, 22.54it/s, loss=1.41, acc=48.4]\n"
          ]
        },
        {
          "metadata": {
            "tags": null
          },
          "name": "stdout",
          "output_type": "stream",
          "text": [
            "Train Loss: 1.7763, Train Acc: 33.31%\n",
            "Val Loss: 1.4101, Val Acc: 48.35%\n",
            "Best model saved! Accuracy: 48.35%\n",
            "\n",
            "Epoch 2/50\n"
          ]
        },
        {
          "metadata": {
            "tags": null
          },
          "name": "stderr",
          "output_type": "stream",
          "text": [
            "Training: 100%|██████████| 391/391 [00:50<00:00,  7.78it/s, loss=1.35, acc=50.9]\n",
            "Validation: 100%|██████████| 79/79 [00:04<00:00, 19.44it/s, loss=1.21, acc=56]\n"
          ]
        },
        {
          "metadata": {
            "tags": null
          },
          "name": "stdout",
          "output_type": "stream",
          "text": [
            "Train Loss: 1.3516, Train Acc: 50.86%\n",
            "Val Loss: 1.2076, Val Acc: 56.01%\n",
            "Best model saved! Accuracy: 56.01%\n",
            "\n",
            "Epoch 3/50\n"
          ]
        },
        {
          "metadata": {
            "tags": null
          },
          "name": "stderr",
          "output_type": "stream",
          "text": [
            "Training: 100%|██████████| 391/391 [00:50<00:00,  7.68it/s, loss=1.18, acc=57.3]\n",
            "Validation: 100%|██████████| 79/79 [00:03<00:00, 21.99it/s, loss=1.03, acc=63]\n"
          ]
        },
        {
          "metadata": {
            "tags": null
          },
          "name": "stdout",
          "output_type": "stream",
          "text": [
            "Train Loss: 1.1782, Train Acc: 57.28%\n",
            "Val Loss: 1.0317, Val Acc: 63.04%\n",
            "Best model saved! Accuracy: 63.04%\n",
            "\n",
            "Epoch 4/50\n"
          ]
        },
        {
          "metadata": {
            "tags": null
          },
          "name": "stderr",
          "output_type": "stream",
          "text": [
            "Training: 100%|██████████| 391/391 [00:49<00:00,  7.83it/s, loss=1.08, acc=61.3]\n",
            "Validation: 100%|██████████| 79/79 [00:03<00:00, 22.46it/s, loss=1.01, acc=65.4]\n"
          ]
        },
        {
          "metadata": {
            "tags": null
          },
          "name": "stdout",
          "output_type": "stream",
          "text": [
            "Train Loss: 1.0764, Train Acc: 61.30%\n",
            "Val Loss: 1.0096, Val Acc: 65.40%\n",
            "Best model saved! Accuracy: 65.40%\n",
            "\n",
            "Epoch 5/50\n"
          ]
        },
        {
          "metadata": {
            "tags": null
          },
          "name": "stderr",
          "output_type": "stream",
          "text": [
            "Training: 100%|██████████| 391/391 [00:49<00:00,  7.88it/s, loss=0.987, acc=64.8]\n",
            "Validation: 100%|██████████| 79/79 [00:03<00:00, 21.03it/s, loss=0.927, acc=68]\n"
          ]
        },
        {
          "metadata": {
            "tags": null
          },
          "name": "stdout",
          "output_type": "stream",
          "text": [
            "Train Loss: 0.9868, Train Acc: 64.84%\n",
            "Val Loss: 0.9266, Val Acc: 68.00%\n",
            "Best model saved! Accuracy: 68.00%\n",
            "\n",
            "Epoch 6/50\n"
          ]
        },
        {
          "metadata": {
            "tags": null
          },
          "name": "stderr",
          "output_type": "stream",
          "text": [
            "Training: 100%|██████████| 391/391 [00:50<00:00,  7.80it/s, loss=0.906, acc=67.9]\n",
            "Validation: 100%|██████████| 79/79 [00:03<00:00, 22.76it/s, loss=0.928, acc=68.3]\n"
          ]
        },
        {
          "metadata": {
            "tags": null
          },
          "name": "stdout",
          "output_type": "stream",
          "text": [
            "Train Loss: 0.9062, Train Acc: 67.89%\n",
            "Val Loss: 0.9281, Val Acc: 68.29%\n",
            "Best model saved! Accuracy: 68.29%\n",
            "\n",
            "Epoch 7/50\n"
          ]
        },
        {
          "metadata": {
            "tags": null
          },
          "name": "stderr",
          "output_type": "stream",
          "text": [
            "Training: 100%|██████████| 391/391 [00:49<00:00,  7.92it/s, loss=0.857, acc=69.6]\n",
            "Validation: 100%|██████████| 79/79 [00:03<00:00, 21.00it/s, loss=0.746, acc=74.7]\n"
          ]
        },
        {
          "metadata": {
            "tags": null
          },
          "name": "stdout",
          "output_type": "stream",
          "text": [
            "Train Loss: 0.8565, Train Acc: 69.58%\n",
            "Val Loss: 0.7464, Val Acc: 74.65%\n",
            "Best model saved! Accuracy: 74.65%\n",
            "\n",
            "Epoch 8/50\n"
          ]
        },
        {
          "metadata": {
            "tags": null
          },
          "name": "stderr",
          "output_type": "stream",
          "text": [
            "Training: 100%|██████████| 391/391 [00:50<00:00,  7.80it/s, loss=0.809, acc=71.6]\n",
            "Validation: 100%|██████████| 79/79 [00:03<00:00, 23.03it/s, loss=0.834, acc=72.1]\n"
          ]
        },
        {
          "metadata": {
            "tags": null
          },
          "name": "stdout",
          "output_type": "stream",
          "text": [
            "Train Loss: 0.8088, Train Acc: 71.55%\n",
            "Val Loss: 0.8342, Val Acc: 72.11%\n",
            "\n",
            "Epoch 9/50\n"
          ]
        },
        {
          "metadata": {
            "tags": null
          },
          "name": "stderr",
          "output_type": "stream",
          "text": [
            "Training: 100%|██████████| 391/391 [00:49<00:00,  7.90it/s, loss=0.773, acc=72.7]\n",
            "Validation: 100%|██████████| 79/79 [00:03<00:00, 22.80it/s, loss=0.641, acc=78.3]\n"
          ]
        },
        {
          "metadata": {
            "tags": null
          },
          "name": "stdout",
          "output_type": "stream",
          "text": [
            "Train Loss: 0.7728, Train Acc: 72.68%\n",
            "Val Loss: 0.6411, Val Acc: 78.33%\n",
            "Best model saved! Accuracy: 78.33%\n",
            "\n",
            "Epoch 10/50\n"
          ]
        },
        {
          "metadata": {
            "tags": null
          },
          "name": "stderr",
          "output_type": "stream",
          "text": [
            "Training: 100%|██████████| 391/391 [00:49<00:00,  7.93it/s, loss=0.735, acc=74.1]\n",
            "Validation: 100%|██████████| 79/79 [00:03<00:00, 19.80it/s, loss=0.736, acc=73.7]\n"
          ]
        },
        {
          "metadata": {
            "tags": null
          },
          "name": "stdout",
          "output_type": "stream",
          "text": [
            "Train Loss: 0.7347, Train Acc: 74.10%\n",
            "Val Loss: 0.7357, Val Acc: 73.72%\n",
            "\n",
            "Epoch 11/50\n"
          ]
        },
        {
          "metadata": {
            "tags": null
          },
          "name": "stderr",
          "output_type": "stream",
          "text": [
            "Training: 100%|██████████| 391/391 [00:49<00:00,  7.83it/s, loss=0.708, acc=75]\n",
            "Validation: 100%|██████████| 79/79 [00:03<00:00, 22.74it/s, loss=0.597, acc=79.2]\n"
          ]
        },
        {
          "metadata": {
            "tags": null
          },
          "name": "stdout",
          "output_type": "stream",
          "text": [
            "Train Loss: 0.7085, Train Acc: 74.97%\n",
            "Val Loss: 0.5970, Val Acc: 79.22%\n",
            "Best model saved! Accuracy: 79.22%\n",
            "\n",
            "Epoch 12/50\n"
          ]
        },
        {
          "metadata": {
            "tags": null
          },
          "name": "stderr",
          "output_type": "stream",
          "text": [
            "Training: 100%|██████████| 391/391 [00:49<00:00,  7.86it/s, loss=0.691, acc=75.8]\n",
            "Validation: 100%|██████████| 79/79 [00:03<00:00, 21.72it/s, loss=0.571, acc=79.8]\n"
          ]
        },
        {
          "metadata": {
            "tags": null
          },
          "name": "stdout",
          "output_type": "stream",
          "text": [
            "Train Loss: 0.6915, Train Acc: 75.82%\n",
            "Val Loss: 0.5707, Val Acc: 79.85%\n",
            "Best model saved! Accuracy: 79.85%\n",
            "\n",
            "Epoch 13/50\n"
          ]
        },
        {
          "metadata": {
            "tags": null
          },
          "name": "stderr",
          "output_type": "stream",
          "text": [
            "Training: 100%|██████████| 391/391 [00:50<00:00,  7.81it/s, loss=0.666, acc=76.7]\n",
            "Validation: 100%|██████████| 79/79 [00:04<00:00, 18.36it/s, loss=0.68, acc=77.3]\n"
          ]
        },
        {
          "metadata": {
            "tags": null
          },
          "name": "stdout",
          "output_type": "stream",
          "text": [
            "Train Loss: 0.6662, Train Acc: 76.69%\n",
            "Val Loss: 0.6804, Val Acc: 77.30%\n",
            "\n",
            "Epoch 14/50\n"
          ]
        },
        {
          "metadata": {
            "tags": null
          },
          "name": "stderr",
          "output_type": "stream",
          "text": [
            "Training: 100%|██████████| 391/391 [00:49<00:00,  7.88it/s, loss=0.654, acc=77]\n",
            "Validation: 100%|██████████| 79/79 [00:03<00:00, 22.78it/s, loss=0.514, acc=82.5]\n"
          ]
        },
        {
          "metadata": {
            "tags": null
          },
          "name": "stdout",
          "output_type": "stream",
          "text": [
            "Train Loss: 0.6535, Train Acc: 77.04%\n",
            "Val Loss: 0.5143, Val Acc: 82.53%\n",
            "Best model saved! Accuracy: 82.53%\n",
            "\n",
            "Epoch 15/50\n"
          ]
        },
        {
          "metadata": {
            "tags": null
          },
          "name": "stderr",
          "output_type": "stream",
          "text": [
            "Training: 100%|██████████| 391/391 [00:49<00:00,  7.92it/s, loss=0.629, acc=78]\n",
            "Validation: 100%|██████████| 79/79 [00:04<00:00, 19.61it/s, loss=0.715, acc=77.2]\n"
          ]
        },
        {
          "metadata": {
            "tags": null
          },
          "name": "stdout",
          "output_type": "stream",
          "text": [
            "Train Loss: 0.6292, Train Acc: 77.99%\n",
            "Val Loss: 0.7145, Val Acc: 77.24%\n",
            "\n",
            "Epoch 16/50\n"
          ]
        },
        {
          "metadata": {
            "tags": null
          },
          "name": "stderr",
          "output_type": "stream",
          "text": [
            "Training: 100%|██████████| 391/391 [00:50<00:00,  7.76it/s, loss=0.621, acc=78.3]\n",
            "Validation: 100%|██████████| 79/79 [00:03<00:00, 22.55it/s, loss=0.549, acc=81.5]\n"
          ]
        },
        {
          "metadata": {
            "tags": null
          },
          "name": "stdout",
          "output_type": "stream",
          "text": [
            "Train Loss: 0.6208, Train Acc: 78.29%\n",
            "Val Loss: 0.5493, Val Acc: 81.46%\n",
            "\n",
            "Epoch 17/50\n"
          ]
        },
        {
          "metadata": {
            "tags": null
          },
          "name": "stderr",
          "output_type": "stream",
          "text": [
            "Training: 100%|██████████| 391/391 [00:49<00:00,  7.91it/s, loss=0.603, acc=79.1]\n",
            "Validation: 100%|██████████| 79/79 [00:03<00:00, 20.22it/s, loss=0.524, acc=82.3]\n"
          ]
        },
        {
          "metadata": {
            "tags": null
          },
          "name": "stdout",
          "output_type": "stream",
          "text": [
            "Train Loss: 0.6026, Train Acc: 79.10%\n",
            "Val Loss: 0.5238, Val Acc: 82.27%\n",
            "\n",
            "Epoch 18/50\n"
          ]
        },
        {
          "metadata": {
            "tags": null
          },
          "name": "stderr",
          "output_type": "stream",
          "text": [
            "Training: 100%|██████████| 391/391 [00:49<00:00,  7.87it/s, loss=0.591, acc=79.2]\n",
            "Validation: 100%|██████████| 79/79 [00:03<00:00, 22.90it/s, loss=0.49, acc=83.5]\n"
          ]
        },
        {
          "metadata": {
            "tags": null
          },
          "name": "stdout",
          "output_type": "stream",
          "text": [
            "Train Loss: 0.5908, Train Acc: 79.24%\n",
            "Val Loss: 0.4899, Val Acc: 83.45%\n",
            "Best model saved! Accuracy: 83.45%\n",
            "\n",
            "Epoch 19/50\n"
          ]
        },
        {
          "metadata": {
            "tags": null
          },
          "name": "stderr",
          "output_type": "stream",
          "text": [
            "Training: 100%|██████████| 391/391 [00:49<00:00,  7.85it/s, loss=0.576, acc=79.7]\n",
            "Validation: 100%|██████████| 79/79 [00:03<00:00, 22.15it/s, loss=0.623, acc=79.6]\n"
          ]
        },
        {
          "metadata": {
            "tags": null
          },
          "name": "stdout",
          "output_type": "stream",
          "text": [
            "Train Loss: 0.5765, Train Acc: 79.67%\n",
            "Val Loss: 0.6231, Val Acc: 79.63%\n",
            "\n",
            "Epoch 20/50\n"
          ]
        },
        {
          "metadata": {
            "tags": null
          },
          "name": "stderr",
          "output_type": "stream",
          "text": [
            "Training: 100%|██████████| 391/391 [00:49<00:00,  7.87it/s, loss=0.568, acc=80.3]\n",
            "Validation: 100%|██████████| 79/79 [00:04<00:00, 19.14it/s, loss=0.492, acc=83]\n"
          ]
        },
        {
          "metadata": {
            "tags": null
          },
          "name": "stdout",
          "output_type": "stream",
          "text": [
            "Train Loss: 0.5682, Train Acc: 80.26%\n",
            "Val Loss: 0.4918, Val Acc: 82.98%\n",
            "\n",
            "Epoch 21/50\n"
          ]
        },
        {
          "metadata": {
            "tags": null
          },
          "name": "stderr",
          "output_type": "stream",
          "text": [
            "Training: 100%|██████████| 391/391 [00:50<00:00,  7.80it/s, loss=0.561, acc=80.4]\n",
            "Validation: 100%|██████████| 79/79 [00:03<00:00, 22.43it/s, loss=0.532, acc=82.1]\n"
          ]
        },
        {
          "metadata": {
            "tags": null
          },
          "name": "stdout",
          "output_type": "stream",
          "text": [
            "Train Loss: 0.5613, Train Acc: 80.42%\n",
            "Val Loss: 0.5319, Val Acc: 82.10%\n",
            "\n",
            "Epoch 22/50\n"
          ]
        },
        {
          "metadata": {
            "tags": null
          },
          "name": "stderr",
          "output_type": "stream",
          "text": [
            "Training: 100%|██████████| 391/391 [00:49<00:00,  7.89it/s, loss=0.545, acc=80.9]\n",
            "Validation: 100%|██████████| 79/79 [00:04<00:00, 19.31it/s, loss=0.579, acc=81.8]\n"
          ]
        },
        {
          "metadata": {
            "tags": null
          },
          "name": "stdout",
          "output_type": "stream",
          "text": [
            "Train Loss: 0.5449, Train Acc: 80.93%\n",
            "Val Loss: 0.5786, Val Acc: 81.81%\n",
            "\n",
            "Epoch 23/50\n"
          ]
        },
        {
          "metadata": {
            "tags": null
          },
          "name": "stderr",
          "output_type": "stream",
          "text": [
            "Training: 100%|██████████| 391/391 [00:50<00:00,  7.82it/s, loss=0.534, acc=81.3]\n",
            "Validation: 100%|██████████| 79/79 [00:03<00:00, 23.00it/s, loss=0.467, acc=83.8]\n"
          ]
        },
        {
          "metadata": {
            "tags": null
          },
          "name": "stdout",
          "output_type": "stream",
          "text": [
            "Train Loss: 0.5340, Train Acc: 81.31%\n",
            "Val Loss: 0.4674, Val Acc: 83.78%\n",
            "Best model saved! Accuracy: 83.78%\n",
            "\n",
            "Epoch 24/50\n"
          ]
        },
        {
          "metadata": {
            "tags": null
          },
          "name": "stderr",
          "output_type": "stream",
          "text": [
            "Training: 100%|██████████| 391/391 [00:51<00:00,  7.56it/s, loss=0.528, acc=81.5]\n",
            "Validation: 100%|██████████| 79/79 [00:03<00:00, 20.83it/s, loss=0.489, acc=83.8]\n"
          ]
        },
        {
          "metadata": {
            "tags": null
          },
          "name": "stdout",
          "output_type": "stream",
          "text": [
            "Train Loss: 0.5284, Train Acc: 81.48%\n",
            "Val Loss: 0.4889, Val Acc: 83.84%\n",
            "Best model saved! Accuracy: 83.84%\n",
            "\n",
            "Epoch 25/50\n"
          ]
        },
        {
          "metadata": {
            "tags": null
          },
          "name": "stderr",
          "output_type": "stream",
          "text": [
            "Training: 100%|██████████| 391/391 [00:49<00:00,  7.87it/s, loss=0.522, acc=81.7]\n",
            "Validation: 100%|██████████| 79/79 [00:03<00:00, 22.45it/s, loss=0.427, acc=85.7]\n"
          ]
        },
        {
          "metadata": {
            "tags": null
          },
          "name": "stdout",
          "output_type": "stream",
          "text": [
            "Train Loss: 0.5222, Train Acc: 81.73%\n",
            "Val Loss: 0.4274, Val Acc: 85.65%\n",
            "Best model saved! Accuracy: 85.65%\n",
            "\n",
            "Epoch 26/50\n"
          ]
        },
        {
          "metadata": {
            "tags": null
          },
          "name": "stderr",
          "output_type": "stream",
          "text": [
            "Training: 100%|██████████| 391/391 [00:49<00:00,  7.87it/s, loss=0.511, acc=82.1]\n",
            "Validation: 100%|██████████| 79/79 [00:03<00:00, 22.04it/s, loss=0.492, acc=83.6]\n"
          ]
        },
        {
          "metadata": {
            "tags": null
          },
          "name": "stdout",
          "output_type": "stream",
          "text": [
            "Train Loss: 0.5107, Train Acc: 82.13%\n",
            "Val Loss: 0.4917, Val Acc: 83.63%\n",
            "\n",
            "Epoch 27/50\n"
          ]
        },
        {
          "metadata": {
            "tags": null
          },
          "name": "stderr",
          "output_type": "stream",
          "text": [
            "Training: 100%|██████████| 391/391 [00:50<00:00,  7.81it/s, loss=0.506, acc=82.5]\n",
            "Validation: 100%|██████████| 79/79 [00:04<00:00, 19.27it/s, loss=0.401, acc=86.5]\n"
          ]
        },
        {
          "metadata": {
            "tags": null
          },
          "name": "stdout",
          "output_type": "stream",
          "text": [
            "Train Loss: 0.5056, Train Acc: 82.49%\n",
            "Val Loss: 0.4014, Val Acc: 86.49%\n",
            "Best model saved! Accuracy: 86.49%\n",
            "\n",
            "Epoch 28/50\n"
          ]
        },
        {
          "metadata": {
            "tags": null
          },
          "name": "stderr",
          "output_type": "stream",
          "text": [
            "Training: 100%|██████████| 391/391 [00:49<00:00,  7.89it/s, loss=0.501, acc=82.5]\n",
            "Validation: 100%|██████████| 79/79 [00:03<00:00, 22.70it/s, loss=0.47, acc=84.7]\n"
          ]
        },
        {
          "metadata": {
            "tags": null
          },
          "name": "stdout",
          "output_type": "stream",
          "text": [
            "Train Loss: 0.5007, Train Acc: 82.50%\n",
            "Val Loss: 0.4705, Val Acc: 84.66%\n",
            "\n",
            "Epoch 29/50\n"
          ]
        },
        {
          "metadata": {
            "tags": null
          },
          "name": "stderr",
          "output_type": "stream",
          "text": [
            "Training: 100%|██████████| 391/391 [00:50<00:00,  7.79it/s, loss=0.493, acc=82.8]\n",
            "Validation: 100%|██████████| 79/79 [00:04<00:00, 19.68it/s, loss=0.46, acc=84.8]\n"
          ]
        },
        {
          "metadata": {
            "tags": null
          },
          "name": "stdout",
          "output_type": "stream",
          "text": [
            "Train Loss: 0.4929, Train Acc: 82.77%\n",
            "Val Loss: 0.4599, Val Acc: 84.77%\n",
            "\n",
            "Epoch 30/50\n"
          ]
        },
        {
          "metadata": {
            "tags": null
          },
          "name": "stderr",
          "output_type": "stream",
          "text": [
            "Training: 100%|██████████| 391/391 [00:49<00:00,  7.86it/s, loss=0.481, acc=83.2]\n",
            "Validation: 100%|██████████| 79/79 [00:03<00:00, 22.07it/s, loss=0.386, acc=87]\n"
          ]
        },
        {
          "metadata": {
            "tags": null
          },
          "name": "stdout",
          "output_type": "stream",
          "text": [
            "Train Loss: 0.4812, Train Acc: 83.20%\n",
            "Val Loss: 0.3863, Val Acc: 86.99%\n",
            "Best model saved! Accuracy: 86.99%\n",
            "\n",
            "Epoch 31/50\n"
          ]
        },
        {
          "metadata": {
            "tags": null
          },
          "name": "stderr",
          "output_type": "stream",
          "text": [
            "Training: 100%|██████████| 391/391 [00:50<00:00,  7.68it/s, loss=0.474, acc=83.4]\n",
            "Validation: 100%|██████████| 79/79 [00:04<00:00, 19.45it/s, loss=0.38, acc=86.9]\n"
          ]
        },
        {
          "metadata": {
            "tags": null
          },
          "name": "stdout",
          "output_type": "stream",
          "text": [
            "Train Loss: 0.4738, Train Acc: 83.37%\n",
            "Val Loss: 0.3805, Val Acc: 86.91%\n",
            "\n",
            "Epoch 32/50\n"
          ]
        },
        {
          "metadata": {
            "tags": null
          },
          "name": "stderr",
          "output_type": "stream",
          "text": [
            "Training: 100%|██████████| 391/391 [00:51<00:00,  7.54it/s, loss=0.466, acc=83.6]\n",
            "Validation: 100%|██████████| 79/79 [00:03<00:00, 19.96it/s, loss=0.396, acc=86.9]\n"
          ]
        },
        {
          "metadata": {
            "tags": null
          },
          "name": "stdout",
          "output_type": "stream",
          "text": [
            "Train Loss: 0.4663, Train Acc: 83.65%\n",
            "Val Loss: 0.3957, Val Acc: 86.93%\n",
            "\n",
            "Epoch 33/50\n"
          ]
        },
        {
          "output_type": "stream",
          "name": "stderr",
          "text": [
            "Training: 100%|██████████| 391/391 [00:52<00:00,  7.51it/s, loss=0.462, acc=84]\n",
            "Validation: 100%|██████████| 79/79 [00:03<00:00, 21.49it/s, loss=0.407, acc=86.5]\n"
          ]
        },
        {
          "output_type": "stream",
          "name": "stdout",
          "text": [
            "Train Loss: 0.4615, Train Acc: 84.02%\n",
            "Val Loss: 0.4071, Val Acc: 86.48%\n",
            "\n",
            "Epoch 34/50\n"
          ]
        },
        {
          "output_type": "stream",
          "name": "stderr",
          "text": [
            "Training: 100%|██████████| 391/391 [00:50<00:00,  7.71it/s, loss=0.447, acc=84.5]\n",
            "Validation: 100%|██████████| 79/79 [00:03<00:00, 22.22it/s, loss=0.42, acc=86.2]\n"
          ]
        },
        {
          "output_type": "stream",
          "name": "stdout",
          "text": [
            "Train Loss: 0.4473, Train Acc: 84.45%\n",
            "Val Loss: 0.4197, Val Acc: 86.22%\n",
            "\n",
            "Epoch 35/50\n"
          ]
        },
        {
          "output_type": "stream",
          "name": "stderr",
          "text": [
            "Training: 100%|██████████| 391/391 [00:50<00:00,  7.79it/s, loss=0.443, acc=84.5]\n",
            "Validation: 100%|██████████| 79/79 [00:03<00:00, 21.91it/s, loss=0.359, acc=87.8]\n"
          ]
        },
        {
          "output_type": "stream",
          "name": "stdout",
          "text": [
            "Train Loss: 0.4428, Train Acc: 84.54%\n",
            "Val Loss: 0.3591, Val Acc: 87.83%\n",
            "Best model saved! Accuracy: 87.83%\n",
            "\n",
            "Epoch 36/50\n"
          ]
        },
        {
          "output_type": "stream",
          "name": "stderr",
          "text": [
            "Training: 100%|██████████| 391/391 [00:50<00:00,  7.79it/s, loss=0.435, acc=84.7]\n",
            "Validation: 100%|██████████| 79/79 [00:04<00:00, 19.41it/s, loss=0.389, acc=87]\n"
          ]
        },
        {
          "output_type": "stream",
          "name": "stdout",
          "text": [
            "Train Loss: 0.4349, Train Acc: 84.70%\n",
            "Val Loss: 0.3886, Val Acc: 86.96%\n",
            "\n",
            "Epoch 37/50\n"
          ]
        },
        {
          "output_type": "stream",
          "name": "stderr",
          "text": [
            "Training: 100%|██████████| 391/391 [00:50<00:00,  7.70it/s, loss=0.42, acc=85.3]\n",
            "Validation: 100%|██████████| 79/79 [00:03<00:00, 22.57it/s, loss=0.365, acc=87.5]\n"
          ]
        },
        {
          "output_type": "stream",
          "name": "stdout",
          "text": [
            "Train Loss: 0.4198, Train Acc: 85.29%\n",
            "Val Loss: 0.3648, Val Acc: 87.50%\n",
            "\n",
            "Epoch 38/50\n"
          ]
        },
        {
          "output_type": "stream",
          "name": "stderr",
          "text": [
            "Training: 100%|██████████| 391/391 [00:50<00:00,  7.80it/s, loss=0.414, acc=85.5]\n",
            "Validation: 100%|██████████| 79/79 [00:04<00:00, 18.67it/s, loss=0.354, acc=87.8]\n"
          ]
        },
        {
          "output_type": "stream",
          "name": "stdout",
          "text": [
            "Train Loss: 0.4138, Train Acc: 85.53%\n",
            "Val Loss: 0.3537, Val Acc: 87.78%\n",
            "\n",
            "Epoch 39/50\n"
          ]
        },
        {
          "output_type": "stream",
          "name": "stderr",
          "text": [
            "Training: 100%|██████████| 391/391 [00:50<00:00,  7.81it/s, loss=0.404, acc=85.7]\n",
            "Validation: 100%|██████████| 79/79 [00:04<00:00, 19.06it/s, loss=0.344, acc=88.6]\n"
          ]
        },
        {
          "output_type": "stream",
          "name": "stdout",
          "text": [
            "Train Loss: 0.4045, Train Acc: 85.70%\n",
            "Val Loss: 0.3440, Val Acc: 88.61%\n",
            "Best model saved! Accuracy: 88.61%\n",
            "\n",
            "Epoch 40/50\n"
          ]
        },
        {
          "output_type": "stream",
          "name": "stderr",
          "text": [
            "Training: 100%|██████████| 391/391 [00:49<00:00,  7.82it/s, loss=0.386, acc=86.5]\n",
            "Validation: 100%|██████████| 79/79 [00:04<00:00, 19.32it/s, loss=0.307, acc=89.5]\n"
          ]
        },
        {
          "output_type": "stream",
          "name": "stdout",
          "text": [
            "Train Loss: 0.3864, Train Acc: 86.46%\n",
            "Val Loss: 0.3069, Val Acc: 89.47%\n",
            "Best model saved! Accuracy: 89.47%\n",
            "\n",
            "Epoch 41/50\n"
          ]
        },
        {
          "output_type": "stream",
          "name": "stderr",
          "text": [
            "Training: 100%|██████████| 391/391 [00:50<00:00,  7.78it/s, loss=0.384, acc=86.5]\n",
            "Validation: 100%|██████████| 79/79 [00:03<00:00, 22.01it/s, loss=0.307, acc=89.6]\n"
          ]
        },
        {
          "output_type": "stream",
          "name": "stdout",
          "text": [
            "Train Loss: 0.3838, Train Acc: 86.49%\n",
            "Val Loss: 0.3073, Val Acc: 89.60%\n",
            "Best model saved! Accuracy: 89.60%\n",
            "\n",
            "Epoch 42/50\n"
          ]
        },
        {
          "output_type": "stream",
          "name": "stderr",
          "text": [
            "Training: 100%|██████████| 391/391 [00:50<00:00,  7.73it/s, loss=0.37, acc=87]\n",
            "Validation: 100%|██████████| 79/79 [00:03<00:00, 22.44it/s, loss=0.302, acc=89.8]\n"
          ]
        },
        {
          "output_type": "stream",
          "name": "stdout",
          "text": [
            "Train Loss: 0.3701, Train Acc: 86.96%\n",
            "Val Loss: 0.3023, Val Acc: 89.79%\n",
            "Best model saved! Accuracy: 89.79%\n",
            "\n",
            "Epoch 43/50\n"
          ]
        },
        {
          "output_type": "stream",
          "name": "stderr",
          "text": [
            "Training: 100%|██████████| 391/391 [00:50<00:00,  7.81it/s, loss=0.351, acc=87.6]\n",
            "Validation: 100%|██████████| 79/79 [00:04<00:00, 19.52it/s, loss=0.29, acc=90.2]\n"
          ]
        },
        {
          "output_type": "stream",
          "name": "stdout",
          "text": [
            "Train Loss: 0.3512, Train Acc: 87.62%\n",
            "Val Loss: 0.2904, Val Acc: 90.15%\n",
            "Best model saved! Accuracy: 90.15%\n",
            "\n",
            "Epoch 44/50\n"
          ]
        },
        {
          "output_type": "stream",
          "name": "stderr",
          "text": [
            "Training: 100%|██████████| 391/391 [00:50<00:00,  7.81it/s, loss=0.338, acc=88.1]\n",
            "Validation: 100%|██████████| 79/79 [00:03<00:00, 22.20it/s, loss=0.282, acc=90.5]\n"
          ]
        },
        {
          "output_type": "stream",
          "name": "stdout",
          "text": [
            "Train Loss: 0.3377, Train Acc: 88.14%\n",
            "Val Loss: 0.2824, Val Acc: 90.46%\n",
            "Best model saved! Accuracy: 90.46%\n",
            "\n",
            "Epoch 45/50\n"
          ]
        },
        {
          "output_type": "stream",
          "name": "stderr",
          "text": [
            "Training: 100%|██████████| 391/391 [00:50<00:00,  7.73it/s, loss=0.331, acc=88.3]\n",
            "Validation: 100%|██████████| 79/79 [00:04<00:00, 18.83it/s, loss=0.275, acc=90.5]\n"
          ]
        },
        {
          "output_type": "stream",
          "name": "stdout",
          "text": [
            "Train Loss: 0.3314, Train Acc: 88.28%\n",
            "Val Loss: 0.2752, Val Acc: 90.55%\n",
            "Best model saved! Accuracy: 90.55%\n",
            "\n",
            "Epoch 46/50\n"
          ]
        },
        {
          "output_type": "stream",
          "name": "stderr",
          "text": [
            "Training: 100%|██████████| 391/391 [00:50<00:00,  7.81it/s, loss=0.317, acc=88.8]\n",
            "Validation: 100%|██████████| 79/79 [00:03<00:00, 22.60it/s, loss=0.269, acc=91]\n"
          ]
        },
        {
          "output_type": "stream",
          "name": "stdout",
          "text": [
            "Train Loss: 0.3169, Train Acc: 88.85%\n",
            "Val Loss: 0.2693, Val Acc: 91.03%\n",
            "Best model saved! Accuracy: 91.03%\n",
            "\n",
            "Epoch 47/50\n"
          ]
        },
        {
          "output_type": "stream",
          "name": "stderr",
          "text": [
            "Training: 100%|██████████| 391/391 [00:50<00:00,  7.76it/s, loss=0.308, acc=89.1]\n",
            "Validation: 100%|██████████| 79/79 [00:03<00:00, 22.67it/s, loss=0.262, acc=91.1]\n"
          ]
        },
        {
          "output_type": "stream",
          "name": "stdout",
          "text": [
            "Train Loss: 0.3079, Train Acc: 89.14%\n",
            "Val Loss: 0.2616, Val Acc: 91.13%\n",
            "Best model saved! Accuracy: 91.13%\n",
            "\n",
            "Epoch 48/50\n"
          ]
        },
        {
          "output_type": "stream",
          "name": "stderr",
          "text": [
            "Training: 100%|██████████| 391/391 [00:50<00:00,  7.78it/s, loss=0.304, acc=89.5]\n",
            "Validation: 100%|██████████| 79/79 [00:03<00:00, 20.14it/s, loss=0.258, acc=91.2]\n"
          ]
        },
        {
          "output_type": "stream",
          "name": "stdout",
          "text": [
            "Train Loss: 0.3038, Train Acc: 89.47%\n",
            "Val Loss: 0.2585, Val Acc: 91.19%\n",
            "Best model saved! Accuracy: 91.19%\n",
            "\n",
            "Epoch 49/50\n"
          ]
        },
        {
          "output_type": "stream",
          "name": "stderr",
          "text": [
            "Training: 100%|██████████| 391/391 [00:50<00:00,  7.81it/s, loss=0.298, acc=89.5]\n",
            "Validation: 100%|██████████| 79/79 [00:03<00:00, 21.81it/s, loss=0.257, acc=91.3]\n"
          ]
        },
        {
          "output_type": "stream",
          "name": "stdout",
          "text": [
            "Train Loss: 0.2980, Train Acc: 89.50%\n",
            "Val Loss: 0.2570, Val Acc: 91.34%\n",
            "Best model saved! Accuracy: 91.34%\n",
            "\n",
            "Epoch 50/50\n"
          ]
        },
        {
          "output_type": "stream",
          "name": "stderr",
          "text": [
            "Training: 100%|██████████| 391/391 [00:50<00:00,  7.73it/s, loss=0.299, acc=89.5]\n",
            "Validation: 100%|██████████| 79/79 [00:04<00:00, 19.18it/s, loss=0.257, acc=91.4]\n"
          ]
        },
        {
          "output_type": "stream",
          "name": "stdout",
          "text": [
            "Train Loss: 0.2991, Train Acc: 89.47%\n",
            "Val Loss: 0.2571, Val Acc: 91.37%\n",
            "Best model saved! Accuracy: 91.37%\n",
            "\n",
            "==================================================\n",
            "Training Complete!\n",
            "Best Validation Accuracy: 91.37%\n",
            "==================================================\n"
          ]
        }
      ]
    }
  ]
}