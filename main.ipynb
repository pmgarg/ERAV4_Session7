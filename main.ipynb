{
 "cells": [
  {
   "cell_type": "code",
   "execution_count": 1,
   "id": "b01f52d4",
   "metadata": {},
   "outputs": [
    {
     "name": "stdout",
     "output_type": "stream",
     "text": [
      "Using MPS (Metal Performance Shaders) device\n",
      "\n",
      "==================================================\n",
      "Model: CIFAR-10 Advanced CNN\n",
      "==================================================\n",
      "Total Parameters: 175,050\n",
      "Receptive Field: 45\n",
      "Architecture: C1-C2-C3-C4-GAP-FC\n",
      "Depthwise Separable Conv: ✓ (in C2)\n",
      "Dilated Convolution: ✓ (in C3 and C4)\n",
      "Global Average Pooling: ✓\n",
      "Target Accuracy: 85%\n",
      "Parameter Limit: 200,000\n",
      "Parameter Check: ✓ PASS\n",
      "==================================================\n",
      "\n",
      "Detected Mac/MPS environment. Using num_workers=0, pin_memory=False\n",
      "\n",
      "Epoch 1/50\n"
     ]
    },
    {
     "name": "stderr",
     "output_type": "stream",
     "text": [
      "Training: 100%|██████████| 391/391 [00:24<00:00, 15.94it/s, loss=1.78, acc=33.6] \n",
      "Validation: 100%|██████████| 79/79 [00:01<00:00, 47.75it/s, loss=1.63, acc=39.4] \n"
     ]
    },
    {
     "name": "stdout",
     "output_type": "stream",
     "text": [
      "Train Loss: 1.7832, Train Acc: 33.55%\n",
      "Val Loss: 1.6349, Val Acc: 39.38%\n",
      "Best model saved! Accuracy: 39.38%\n",
      "\n",
      "Epoch 2/50\n"
     ]
    },
    {
     "name": "stderr",
     "output_type": "stream",
     "text": [
      "Training: 100%|██████████| 391/391 [00:24<00:00, 16.03it/s, loss=1.35, acc=50.8] \n",
      "Validation: 100%|██████████| 79/79 [00:01<00:00, 48.64it/s, loss=1.28, acc=54.1] \n"
     ]
    },
    {
     "name": "stdout",
     "output_type": "stream",
     "text": [
      "Train Loss: 1.3531, Train Acc: 50.85%\n",
      "Val Loss: 1.2767, Val Acc: 54.09%\n",
      "Best model saved! Accuracy: 54.09%\n",
      "\n",
      "Epoch 3/50\n"
     ]
    },
    {
     "name": "stderr",
     "output_type": "stream",
     "text": [
      "Training: 100%|██████████| 391/391 [00:24<00:00, 15.90it/s, loss=1.19, acc=57]   \n",
      "Validation: 100%|██████████| 79/79 [00:01<00:00, 45.39it/s, loss=1.13, acc=61]   \n"
     ]
    },
    {
     "name": "stdout",
     "output_type": "stream",
     "text": [
      "Train Loss: 1.1851, Train Acc: 57.01%\n",
      "Val Loss: 1.1306, Val Acc: 61.03%\n",
      "Best model saved! Accuracy: 61.03%\n",
      "\n",
      "Epoch 4/50\n"
     ]
    },
    {
     "name": "stderr",
     "output_type": "stream",
     "text": [
      "Training: 100%|██████████| 391/391 [00:24<00:00, 15.73it/s, loss=1.06, acc=62.1] \n",
      "Validation: 100%|██████████| 79/79 [00:01<00:00, 50.85it/s, loss=0.958, acc=65.8]\n"
     ]
    },
    {
     "name": "stdout",
     "output_type": "stream",
     "text": [
      "Train Loss: 1.0590, Train Acc: 62.11%\n",
      "Val Loss: 0.9578, Val Acc: 65.84%\n",
      "Best model saved! Accuracy: 65.84%\n",
      "\n",
      "Epoch 5/50\n"
     ]
    },
    {
     "name": "stderr",
     "output_type": "stream",
     "text": [
      "Training: 100%|██████████| 391/391 [00:24<00:00, 16.17it/s, loss=0.969, acc=65.8]\n",
      "Validation: 100%|██████████| 79/79 [00:01<00:00, 49.22it/s, loss=0.968, acc=66.8]\n"
     ]
    },
    {
     "name": "stdout",
     "output_type": "stream",
     "text": [
      "Train Loss: 0.9689, Train Acc: 65.78%\n",
      "Val Loss: 0.9677, Val Acc: 66.85%\n",
      "Best model saved! Accuracy: 66.85%\n",
      "\n",
      "Epoch 6/50\n"
     ]
    },
    {
     "name": "stderr",
     "output_type": "stream",
     "text": [
      "Training: 100%|██████████| 391/391 [00:24<00:00, 15.71it/s, loss=0.9, acc=68.2]  \n",
      "Validation: 100%|██████████| 79/79 [00:01<00:00, 46.25it/s, loss=0.801, acc=72.1] \n"
     ]
    },
    {
     "name": "stdout",
     "output_type": "stream",
     "text": [
      "Train Loss: 0.8997, Train Acc: 68.20%\n",
      "Val Loss: 0.8011, Val Acc: 72.14%\n",
      "Best model saved! Accuracy: 72.14%\n",
      "\n",
      "Epoch 7/50\n"
     ]
    },
    {
     "name": "stderr",
     "output_type": "stream",
     "text": [
      "Training: 100%|██████████| 391/391 [00:25<00:00, 15.44it/s, loss=0.841, acc=70.5]\n",
      "Validation: 100%|██████████| 79/79 [00:01<00:00, 49.66it/s, loss=0.758, acc=75.3]\n"
     ]
    },
    {
     "name": "stdout",
     "output_type": "stream",
     "text": [
      "Train Loss: 0.8409, Train Acc: 70.45%\n",
      "Val Loss: 0.7578, Val Acc: 75.34%\n",
      "Best model saved! Accuracy: 75.34%\n",
      "\n",
      "Epoch 8/50\n"
     ]
    },
    {
     "name": "stderr",
     "output_type": "stream",
     "text": [
      "Training: 100%|██████████| 391/391 [00:24<00:00, 16.07it/s, loss=0.807, acc=71.9]\n",
      "Validation: 100%|██████████| 79/79 [00:01<00:00, 49.59it/s, loss=0.68, acc=76.3]  \n"
     ]
    },
    {
     "name": "stdout",
     "output_type": "stream",
     "text": [
      "Train Loss: 0.8069, Train Acc: 71.92%\n",
      "Val Loss: 0.6803, Val Acc: 76.34%\n",
      "Best model saved! Accuracy: 76.34%\n",
      "\n",
      "Epoch 9/50\n"
     ]
    },
    {
     "name": "stderr",
     "output_type": "stream",
     "text": [
      "Training: 100%|██████████| 391/391 [00:24<00:00, 15.65it/s, loss=0.766, acc=73.3]\n",
      "Validation: 100%|██████████| 79/79 [00:01<00:00, 50.35it/s, loss=0.682, acc=75.9] \n"
     ]
    },
    {
     "name": "stdout",
     "output_type": "stream",
     "text": [
      "Train Loss: 0.7655, Train Acc: 73.31%\n",
      "Val Loss: 0.6821, Val Acc: 75.89%\n",
      "\n",
      "Epoch 10/50\n"
     ]
    },
    {
     "name": "stderr",
     "output_type": "stream",
     "text": [
      "Training: 100%|██████████| 391/391 [00:24<00:00, 15.96it/s, loss=0.738, acc=74.2]\n",
      "Validation: 100%|██████████| 79/79 [00:01<00:00, 50.26it/s, loss=0.96, acc=70.5] \n"
     ]
    },
    {
     "name": "stdout",
     "output_type": "stream",
     "text": [
      "Train Loss: 0.7378, Train Acc: 74.22%\n",
      "Val Loss: 0.9602, Val Acc: 70.47%\n",
      "\n",
      "Epoch 11/50\n"
     ]
    },
    {
     "name": "stderr",
     "output_type": "stream",
     "text": [
      "Training: 100%|██████████| 391/391 [00:24<00:00, 15.97it/s, loss=0.712, acc=75]  \n",
      "Validation: 100%|██████████| 79/79 [00:01<00:00, 50.49it/s, loss=0.69, acc=76.7]  \n"
     ]
    },
    {
     "name": "stdout",
     "output_type": "stream",
     "text": [
      "Train Loss: 0.7123, Train Acc: 74.98%\n",
      "Val Loss: 0.6895, Val Acc: 76.67%\n",
      "Best model saved! Accuracy: 76.67%\n",
      "\n",
      "Epoch 12/50\n"
     ]
    },
    {
     "name": "stderr",
     "output_type": "stream",
     "text": [
      "Training: 100%|██████████| 391/391 [00:24<00:00, 15.91it/s, loss=0.688, acc=76.1]\n",
      "Validation: 100%|██████████| 79/79 [00:01<00:00, 49.97it/s, loss=0.519, acc=82.2] \n"
     ]
    },
    {
     "name": "stdout",
     "output_type": "stream",
     "text": [
      "Train Loss: 0.6882, Train Acc: 76.08%\n",
      "Val Loss: 0.5192, Val Acc: 82.16%\n",
      "Best model saved! Accuracy: 82.16%\n",
      "\n",
      "Epoch 13/50\n"
     ]
    },
    {
     "name": "stderr",
     "output_type": "stream",
     "text": [
      "Training: 100%|██████████| 391/391 [00:24<00:00, 15.97it/s, loss=0.671, acc=76.5]\n",
      "Validation: 100%|██████████| 79/79 [00:01<00:00, 49.84it/s, loss=0.558, acc=80.8] \n"
     ]
    },
    {
     "name": "stdout",
     "output_type": "stream",
     "text": [
      "Train Loss: 0.6707, Train Acc: 76.49%\n",
      "Val Loss: 0.5582, Val Acc: 80.81%\n",
      "\n",
      "Epoch 14/50\n"
     ]
    },
    {
     "name": "stderr",
     "output_type": "stream",
     "text": [
      "Training: 100%|██████████| 391/391 [00:24<00:00, 16.04it/s, loss=0.644, acc=77.5]\n",
      "Validation: 100%|██████████| 79/79 [00:01<00:00, 50.33it/s, loss=0.555, acc=81.2] \n"
     ]
    },
    {
     "name": "stdout",
     "output_type": "stream",
     "text": [
      "Train Loss: 0.6436, Train Acc: 77.55%\n",
      "Val Loss: 0.5548, Val Acc: 81.20%\n",
      "\n",
      "Epoch 15/50\n"
     ]
    },
    {
     "name": "stderr",
     "output_type": "stream",
     "text": [
      "Training: 100%|██████████| 391/391 [00:24<00:00, 16.05it/s, loss=0.633, acc=77.8]\n",
      "Validation: 100%|██████████| 79/79 [00:01<00:00, 50.35it/s, loss=0.489, acc=83.3] \n"
     ]
    },
    {
     "name": "stdout",
     "output_type": "stream",
     "text": [
      "Train Loss: 0.6327, Train Acc: 77.76%\n",
      "Val Loss: 0.4886, Val Acc: 83.34%\n",
      "Best model saved! Accuracy: 83.34%\n",
      "\n",
      "Epoch 16/50\n"
     ]
    },
    {
     "name": "stderr",
     "output_type": "stream",
     "text": [
      "Training: 100%|██████████| 391/391 [00:24<00:00, 16.11it/s, loss=0.611, acc=78.7]\n",
      "Validation: 100%|██████████| 79/79 [00:01<00:00, 50.24it/s, loss=0.551, acc=81.6] \n"
     ]
    },
    {
     "name": "stdout",
     "output_type": "stream",
     "text": [
      "Train Loss: 0.6112, Train Acc: 78.72%\n",
      "Val Loss: 0.5509, Val Acc: 81.57%\n",
      "\n",
      "Epoch 17/50\n"
     ]
    },
    {
     "name": "stderr",
     "output_type": "stream",
     "text": [
      "Training: 100%|██████████| 391/391 [00:24<00:00, 16.01it/s, loss=0.601, acc=78.9]\n",
      "Validation: 100%|██████████| 79/79 [00:01<00:00, 49.87it/s, loss=0.488, acc=83.5] \n"
     ]
    },
    {
     "name": "stdout",
     "output_type": "stream",
     "text": [
      "Train Loss: 0.6007, Train Acc: 78.93%\n",
      "Val Loss: 0.4881, Val Acc: 83.51%\n",
      "Best model saved! Accuracy: 83.51%\n",
      "\n",
      "Epoch 18/50\n"
     ]
    },
    {
     "name": "stderr",
     "output_type": "stream",
     "text": [
      "Training: 100%|██████████| 391/391 [00:24<00:00, 16.05it/s, loss=0.59, acc=79.3] \n",
      "Validation: 100%|██████████| 79/79 [00:01<00:00, 49.52it/s, loss=0.538, acc=81.4] \n"
     ]
    },
    {
     "name": "stdout",
     "output_type": "stream",
     "text": [
      "Train Loss: 0.5900, Train Acc: 79.26%\n",
      "Val Loss: 0.5380, Val Acc: 81.39%\n",
      "\n",
      "Epoch 19/50\n"
     ]
    },
    {
     "name": "stderr",
     "output_type": "stream",
     "text": [
      "Training: 100%|██████████| 391/391 [00:26<00:00, 14.73it/s, loss=0.573, acc=80.1]\n",
      "Validation: 100%|██████████| 79/79 [00:01<00:00, 45.52it/s, loss=0.514, acc=83]   \n"
     ]
    },
    {
     "name": "stdout",
     "output_type": "stream",
     "text": [
      "Train Loss: 0.5735, Train Acc: 80.06%\n",
      "Val Loss: 0.5140, Val Acc: 82.98%\n",
      "\n",
      "Epoch 20/50\n"
     ]
    },
    {
     "name": "stderr",
     "output_type": "stream",
     "text": [
      "Training: 100%|██████████| 391/391 [00:25<00:00, 15.37it/s, loss=0.565, acc=80.1]\n",
      "Validation: 100%|██████████| 79/79 [00:01<00:00, 49.99it/s, loss=0.511, acc=82.5] \n"
     ]
    },
    {
     "name": "stdout",
     "output_type": "stream",
     "text": [
      "Train Loss: 0.5648, Train Acc: 80.14%\n",
      "Val Loss: 0.5113, Val Acc: 82.47%\n",
      "\n",
      "Epoch 21/50\n"
     ]
    },
    {
     "name": "stderr",
     "output_type": "stream",
     "text": [
      "Training: 100%|██████████| 391/391 [00:24<00:00, 16.08it/s, loss=0.55, acc=80.8] \n",
      "Validation: 100%|██████████| 79/79 [00:01<00:00, 50.58it/s, loss=0.515, acc=82.8] \n"
     ]
    },
    {
     "name": "stdout",
     "output_type": "stream",
     "text": [
      "Train Loss: 0.5498, Train Acc: 80.82%\n",
      "Val Loss: 0.5154, Val Acc: 82.85%\n",
      "\n",
      "Epoch 22/50\n"
     ]
    },
    {
     "name": "stderr",
     "output_type": "stream",
     "text": [
      "Training: 100%|██████████| 391/391 [00:24<00:00, 16.01it/s, loss=0.542, acc=81.1]\n",
      "Validation: 100%|██████████| 79/79 [00:01<00:00, 50.86it/s, loss=0.565, acc=81.8] \n"
     ]
    },
    {
     "name": "stdout",
     "output_type": "stream",
     "text": [
      "Train Loss: 0.5424, Train Acc: 81.10%\n",
      "Val Loss: 0.5646, Val Acc: 81.75%\n",
      "\n",
      "Epoch 23/50\n"
     ]
    },
    {
     "name": "stderr",
     "output_type": "stream",
     "text": [
      "Training: 100%|██████████| 391/391 [00:24<00:00, 16.07it/s, loss=0.538, acc=81.3]\n",
      "Validation: 100%|██████████| 79/79 [00:01<00:00, 50.03it/s, loss=0.513, acc=83.2] \n"
     ]
    },
    {
     "name": "stdout",
     "output_type": "stream",
     "text": [
      "Train Loss: 0.5376, Train Acc: 81.31%\n",
      "Val Loss: 0.5134, Val Acc: 83.22%\n",
      "\n",
      "Epoch 24/50\n"
     ]
    },
    {
     "name": "stderr",
     "output_type": "stream",
     "text": [
      "Training: 100%|██████████| 391/391 [00:24<00:00, 15.80it/s, loss=0.527, acc=81.5]\n",
      "Validation: 100%|██████████| 79/79 [00:01<00:00, 48.84it/s, loss=0.466, acc=84.7] \n"
     ]
    },
    {
     "name": "stdout",
     "output_type": "stream",
     "text": [
      "Train Loss: 0.5269, Train Acc: 81.51%\n",
      "Val Loss: 0.4661, Val Acc: 84.71%\n",
      "Best model saved! Accuracy: 84.71%\n",
      "\n",
      "Epoch 25/50\n"
     ]
    },
    {
     "name": "stderr",
     "output_type": "stream",
     "text": [
      "Training: 100%|██████████| 391/391 [00:24<00:00, 15.82it/s, loss=0.519, acc=81.9]\n",
      "Validation: 100%|██████████| 79/79 [00:01<00:00, 50.61it/s, loss=0.459, acc=84.5] \n"
     ]
    },
    {
     "name": "stdout",
     "output_type": "stream",
     "text": [
      "Train Loss: 0.5190, Train Acc: 81.85%\n",
      "Val Loss: 0.4586, Val Acc: 84.51%\n",
      "\n",
      "Epoch 26/50\n"
     ]
    },
    {
     "name": "stderr",
     "output_type": "stream",
     "text": [
      "Training: 100%|██████████| 391/391 [00:24<00:00, 15.85it/s, loss=0.51, acc=82.1] \n",
      "Validation: 100%|██████████| 79/79 [00:01<00:00, 49.24it/s, loss=0.435, acc=85.5] \n"
     ]
    },
    {
     "name": "stdout",
     "output_type": "stream",
     "text": [
      "Train Loss: 0.5104, Train Acc: 82.11%\n",
      "Val Loss: 0.4354, Val Acc: 85.45%\n",
      "Best model saved! Accuracy: 85.45%\n",
      "\n",
      "Epoch 27/50\n"
     ]
    },
    {
     "name": "stderr",
     "output_type": "stream",
     "text": [
      "Training: 100%|██████████| 391/391 [00:24<00:00, 15.91it/s, loss=0.5, acc=82.6]  \n",
      "Validation: 100%|██████████| 79/79 [00:01<00:00, 48.76it/s, loss=0.525, acc=82.9] \n"
     ]
    },
    {
     "name": "stdout",
     "output_type": "stream",
     "text": [
      "Train Loss: 0.4997, Train Acc: 82.60%\n",
      "Val Loss: 0.5253, Val Acc: 82.88%\n",
      "\n",
      "Epoch 28/50\n"
     ]
    },
    {
     "name": "stderr",
     "output_type": "stream",
     "text": [
      "Training: 100%|██████████| 391/391 [00:24<00:00, 15.83it/s, loss=0.497, acc=82.7]\n",
      "Validation: 100%|██████████| 79/79 [00:01<00:00, 49.92it/s, loss=0.46, acc=84.8]  \n"
     ]
    },
    {
     "name": "stdout",
     "output_type": "stream",
     "text": [
      "Train Loss: 0.4967, Train Acc: 82.72%\n",
      "Val Loss: 0.4603, Val Acc: 84.77%\n",
      "\n",
      "Epoch 29/50\n"
     ]
    },
    {
     "name": "stderr",
     "output_type": "stream",
     "text": [
      "Training: 100%|██████████| 391/391 [00:24<00:00, 16.02it/s, loss=0.489, acc=83]  \n",
      "Validation: 100%|██████████| 79/79 [00:01<00:00, 49.80it/s, loss=0.502, acc=83.6] \n"
     ]
    },
    {
     "name": "stdout",
     "output_type": "stream",
     "text": [
      "Train Loss: 0.4891, Train Acc: 82.99%\n",
      "Val Loss: 0.5024, Val Acc: 83.63%\n",
      "\n",
      "Epoch 30/50\n"
     ]
    },
    {
     "name": "stderr",
     "output_type": "stream",
     "text": [
      "Training: 100%|██████████| 391/391 [00:24<00:00, 15.99it/s, loss=0.482, acc=83]  \n",
      "Validation: 100%|██████████| 79/79 [00:01<00:00, 50.03it/s, loss=0.412, acc=86.3] \n"
     ]
    },
    {
     "name": "stdout",
     "output_type": "stream",
     "text": [
      "Train Loss: 0.4817, Train Acc: 82.95%\n",
      "Val Loss: 0.4119, Val Acc: 86.34%\n",
      "Best model saved! Accuracy: 86.34%\n",
      "\n",
      "Epoch 31/50\n"
     ]
    },
    {
     "name": "stderr",
     "output_type": "stream",
     "text": [
      "Training: 100%|██████████| 391/391 [00:24<00:00, 15.99it/s, loss=0.475, acc=83.5]\n",
      "Validation: 100%|██████████| 79/79 [00:01<00:00, 50.15it/s, loss=0.384, acc=87]   \n"
     ]
    },
    {
     "name": "stdout",
     "output_type": "stream",
     "text": [
      "Train Loss: 0.4746, Train Acc: 83.47%\n",
      "Val Loss: 0.3843, Val Acc: 86.98%\n",
      "Best model saved! Accuracy: 86.98%\n",
      "\n",
      "Epoch 32/50\n"
     ]
    },
    {
     "name": "stderr",
     "output_type": "stream",
     "text": [
      "Training: 100%|██████████| 391/391 [00:24<00:00, 16.03it/s, loss=0.461, acc=83.7]\n",
      "Validation: 100%|██████████| 79/79 [00:01<00:00, 50.51it/s, loss=0.385, acc=87]   \n"
     ]
    },
    {
     "name": "stdout",
     "output_type": "stream",
     "text": [
      "Train Loss: 0.4606, Train Acc: 83.70%\n",
      "Val Loss: 0.3849, Val Acc: 86.97%\n",
      "\n",
      "Epoch 33/50\n"
     ]
    },
    {
     "name": "stderr",
     "output_type": "stream",
     "text": [
      "Training: 100%|██████████| 391/391 [00:24<00:00, 16.04it/s, loss=0.457, acc=84]  \n",
      "Validation: 100%|██████████| 79/79 [00:01<00:00, 50.36it/s, loss=0.376, acc=87.4] \n"
     ]
    },
    {
     "name": "stdout",
     "output_type": "stream",
     "text": [
      "Train Loss: 0.4572, Train Acc: 84.04%\n",
      "Val Loss: 0.3760, Val Acc: 87.44%\n",
      "Best model saved! Accuracy: 87.44%\n",
      "\n",
      "Epoch 34/50\n"
     ]
    },
    {
     "name": "stderr",
     "output_type": "stream",
     "text": [
      "Training: 100%|██████████| 391/391 [00:24<00:00, 15.99it/s, loss=0.448, acc=84.4]\n",
      "Validation: 100%|██████████| 79/79 [00:01<00:00, 50.36it/s, loss=0.374, acc=87.2] \n"
     ]
    },
    {
     "name": "stdout",
     "output_type": "stream",
     "text": [
      "Train Loss: 0.4484, Train Acc: 84.40%\n",
      "Val Loss: 0.3742, Val Acc: 87.20%\n",
      "\n",
      "Epoch 35/50\n"
     ]
    },
    {
     "name": "stderr",
     "output_type": "stream",
     "text": [
      "Training: 100%|██████████| 391/391 [00:24<00:00, 16.04it/s, loss=0.447, acc=84.4]\n",
      "Validation: 100%|██████████| 79/79 [00:01<00:00, 50.45it/s, loss=0.371, acc=87.7] \n"
     ]
    },
    {
     "name": "stdout",
     "output_type": "stream",
     "text": [
      "Train Loss: 0.4468, Train Acc: 84.40%\n",
      "Val Loss: 0.3708, Val Acc: 87.68%\n",
      "Best model saved! Accuracy: 87.68%\n",
      "\n",
      "Epoch 36/50\n"
     ]
    },
    {
     "name": "stderr",
     "output_type": "stream",
     "text": [
      "Training: 100%|██████████| 391/391 [00:24<00:00, 15.85it/s, loss=0.43, acc=85]   \n",
      "Validation: 100%|██████████| 79/79 [00:01<00:00, 48.26it/s, loss=0.366, acc=87.9] \n"
     ]
    },
    {
     "name": "stdout",
     "output_type": "stream",
     "text": [
      "Train Loss: 0.4303, Train Acc: 84.96%\n",
      "Val Loss: 0.3662, Val Acc: 87.88%\n",
      "Best model saved! Accuracy: 87.88%\n",
      "\n",
      "Epoch 37/50\n"
     ]
    },
    {
     "name": "stderr",
     "output_type": "stream",
     "text": [
      "Training: 100%|██████████| 391/391 [00:24<00:00, 15.94it/s, loss=0.423, acc=85.2]\n",
      "Validation: 100%|██████████| 79/79 [00:01<00:00, 50.38it/s, loss=0.388, acc=87.5] \n"
     ]
    },
    {
     "name": "stdout",
     "output_type": "stream",
     "text": [
      "Train Loss: 0.4233, Train Acc: 85.18%\n",
      "Val Loss: 0.3882, Val Acc: 87.52%\n",
      "\n",
      "Epoch 38/50\n"
     ]
    },
    {
     "name": "stderr",
     "output_type": "stream",
     "text": [
      "Training: 100%|██████████| 391/391 [00:24<00:00, 15.89it/s, loss=0.413, acc=85.5] \n",
      "Validation: 100%|██████████| 79/79 [00:01<00:00, 50.44it/s, loss=0.337, acc=88.7] \n"
     ]
    },
    {
     "name": "stdout",
     "output_type": "stream",
     "text": [
      "Train Loss: 0.4126, Train Acc: 85.51%\n",
      "Val Loss: 0.3374, Val Acc: 88.68%\n",
      "Best model saved! Accuracy: 88.68%\n",
      "\n",
      "Epoch 39/50\n"
     ]
    },
    {
     "name": "stderr",
     "output_type": "stream",
     "text": [
      "Training: 100%|██████████| 391/391 [00:24<00:00, 15.99it/s, loss=0.402, acc=86.1] \n",
      "Validation: 100%|██████████| 79/79 [00:01<00:00, 49.07it/s, loss=0.335, acc=88.8] \n"
     ]
    },
    {
     "name": "stdout",
     "output_type": "stream",
     "text": [
      "Train Loss: 0.4015, Train Acc: 86.08%\n",
      "Val Loss: 0.3345, Val Acc: 88.85%\n",
      "Best model saved! Accuracy: 88.85%\n",
      "\n",
      "Epoch 40/50\n"
     ]
    },
    {
     "name": "stderr",
     "output_type": "stream",
     "text": [
      "Training: 100%|██████████| 391/391 [00:24<00:00, 15.88it/s, loss=0.394, acc=86.1] \n",
      "Validation: 100%|██████████| 79/79 [00:01<00:00, 49.89it/s, loss=0.319, acc=89]   \n"
     ]
    },
    {
     "name": "stdout",
     "output_type": "stream",
     "text": [
      "Train Loss: 0.3936, Train Acc: 86.08%\n",
      "Val Loss: 0.3190, Val Acc: 89.05%\n",
      "Best model saved! Accuracy: 89.05%\n",
      "\n",
      "Epoch 41/50\n"
     ]
    },
    {
     "name": "stderr",
     "output_type": "stream",
     "text": [
      "Training: 100%|██████████| 391/391 [00:25<00:00, 15.63it/s, loss=0.375, acc=86.8] \n",
      "Validation: 100%|██████████| 79/79 [00:01<00:00, 47.66it/s, loss=0.316, acc=89.5] \n"
     ]
    },
    {
     "name": "stdout",
     "output_type": "stream",
     "text": [
      "Train Loss: 0.3746, Train Acc: 86.76%\n",
      "Val Loss: 0.3158, Val Acc: 89.45%\n",
      "Best model saved! Accuracy: 89.45%\n",
      "\n",
      "Epoch 42/50\n"
     ]
    },
    {
     "name": "stderr",
     "output_type": "stream",
     "text": [
      "Training: 100%|██████████| 391/391 [00:25<00:00, 15.57it/s, loss=0.363, acc=87.3] \n",
      "Validation: 100%|██████████| 79/79 [00:01<00:00, 50.28it/s, loss=0.323, acc=89.2] \n"
     ]
    },
    {
     "name": "stdout",
     "output_type": "stream",
     "text": [
      "Train Loss: 0.3628, Train Acc: 87.26%\n",
      "Val Loss: 0.3230, Val Acc: 89.23%\n",
      "\n",
      "Epoch 43/50\n"
     ]
    },
    {
     "name": "stderr",
     "output_type": "stream",
     "text": [
      "Training: 100%|██████████| 391/391 [00:24<00:00, 16.04it/s, loss=0.357, acc=87.5] \n",
      "Validation: 100%|██████████| 79/79 [00:01<00:00, 49.31it/s, loss=0.301, acc=89.7] \n"
     ]
    },
    {
     "name": "stdout",
     "output_type": "stream",
     "text": [
      "Train Loss: 0.3568, Train Acc: 87.53%\n",
      "Val Loss: 0.3014, Val Acc: 89.72%\n",
      "Best model saved! Accuracy: 89.72%\n",
      "\n",
      "Epoch 44/50\n"
     ]
    },
    {
     "name": "stderr",
     "output_type": "stream",
     "text": [
      "Training: 100%|██████████| 391/391 [00:24<00:00, 16.02it/s, loss=0.342, acc=87.9] \n",
      "Validation: 100%|██████████| 79/79 [00:01<00:00, 50.14it/s, loss=0.285, acc=90]   \n"
     ]
    },
    {
     "name": "stdout",
     "output_type": "stream",
     "text": [
      "Train Loss: 0.3418, Train Acc: 87.94%\n",
      "Val Loss: 0.2845, Val Acc: 90.01%\n",
      "Best model saved! Accuracy: 90.01%\n",
      "\n",
      "Epoch 45/50\n"
     ]
    },
    {
     "name": "stderr",
     "output_type": "stream",
     "text": [
      "Training: 100%|██████████| 391/391 [00:24<00:00, 16.03it/s, loss=0.331, acc=88.3] \n",
      "Validation: 100%|██████████| 79/79 [00:01<00:00, 49.92it/s, loss=0.275, acc=90.5] \n"
     ]
    },
    {
     "name": "stdout",
     "output_type": "stream",
     "text": [
      "Train Loss: 0.3315, Train Acc: 88.33%\n",
      "Val Loss: 0.2746, Val Acc: 90.53%\n",
      "Best model saved! Accuracy: 90.53%\n",
      "\n",
      "Epoch 46/50\n"
     ]
    },
    {
     "name": "stderr",
     "output_type": "stream",
     "text": [
      "Training: 100%|██████████| 391/391 [00:25<00:00, 15.44it/s, loss=0.318, acc=88.9] \n",
      "Validation: 100%|██████████| 79/79 [00:01<00:00, 47.82it/s, loss=0.27, acc=90.6]  \n"
     ]
    },
    {
     "name": "stdout",
     "output_type": "stream",
     "text": [
      "Train Loss: 0.3183, Train Acc: 88.93%\n",
      "Val Loss: 0.2695, Val Acc: 90.61%\n",
      "Best model saved! Accuracy: 90.61%\n",
      "\n",
      "Epoch 47/50\n"
     ]
    },
    {
     "name": "stderr",
     "output_type": "stream",
     "text": [
      "Training: 100%|██████████| 391/391 [00:25<00:00, 15.58it/s, loss=0.306, acc=89.2] \n",
      "Validation: 100%|██████████| 79/79 [00:01<00:00, 50.50it/s, loss=0.266, acc=90.8] \n"
     ]
    },
    {
     "name": "stdout",
     "output_type": "stream",
     "text": [
      "Train Loss: 0.3060, Train Acc: 89.22%\n",
      "Val Loss: 0.2662, Val Acc: 90.84%\n",
      "Best model saved! Accuracy: 90.84%\n",
      "\n",
      "Epoch 48/50\n"
     ]
    },
    {
     "name": "stderr",
     "output_type": "stream",
     "text": [
      "Training: 100%|██████████| 391/391 [00:24<00:00, 16.07it/s, loss=0.305, acc=89.2] \n",
      "Validation: 100%|██████████| 79/79 [00:01<00:00, 50.22it/s, loss=0.263, acc=91]   \n"
     ]
    },
    {
     "name": "stdout",
     "output_type": "stream",
     "text": [
      "Train Loss: 0.3053, Train Acc: 89.19%\n",
      "Val Loss: 0.2625, Val Acc: 90.95%\n",
      "Best model saved! Accuracy: 90.95%\n",
      "\n",
      "Epoch 49/50\n"
     ]
    },
    {
     "name": "stderr",
     "output_type": "stream",
     "text": [
      "Training: 100%|██████████| 391/391 [00:24<00:00, 15.82it/s, loss=0.302, acc=89.4] \n",
      "Validation: 100%|██████████| 79/79 [00:01<00:00, 48.94it/s, loss=0.261, acc=91.1] \n"
     ]
    },
    {
     "name": "stdout",
     "output_type": "stream",
     "text": [
      "Train Loss: 0.3024, Train Acc: 89.40%\n",
      "Val Loss: 0.2605, Val Acc: 91.08%\n",
      "Best model saved! Accuracy: 91.08%\n",
      "\n",
      "Epoch 50/50\n"
     ]
    },
    {
     "name": "stderr",
     "output_type": "stream",
     "text": [
      "Training: 100%|██████████| 391/391 [00:24<00:00, 15.93it/s, loss=0.296, acc=89.7] \n",
      "Validation: 100%|██████████| 79/79 [00:01<00:00, 50.59it/s, loss=0.261, acc=91]   "
     ]
    },
    {
     "name": "stdout",
     "output_type": "stream",
     "text": [
      "Train Loss: 0.2964, Train Acc: 89.73%\n",
      "Val Loss: 0.2609, Val Acc: 91.03%\n",
      "\n",
      "==================================================\n",
      "Training Complete!\n",
      "Best Validation Accuracy: 91.08%\n",
      "==================================================\n"
     ]
    },
    {
     "name": "stderr",
     "output_type": "stream",
     "text": [
      "\n"
     ]
    }
   ],
   "source": [
    "import torch\n",
    "import argparse\n",
    "import sys\n",
    "import os\n",
    "\n",
    "from config import Config\n",
    "from model import CIFAR10_CNN\n",
    "from trainer import Trainer\n",
    "from utils import print_model_summary\n",
    "from data_loader_mps import get_data_loaders_mps\n",
    "\n",
    "\n",
    "# Configuration\n",
    "config = Config()\n",
    "    \n",
    "# Detect and set device\n",
    "if torch.backends.mps.is_available():\n",
    "    config.DEVICE = 'mps'\n",
    "    print(\"Using MPS (Metal Performance Shaders) device\")\n",
    "elif torch.cuda.is_available():\n",
    "    config.DEVICE = 'cuda'\n",
    "    print(\"Using CUDA device\")\n",
    "else:\n",
    "    config.DEVICE = 'cpu'\n",
    "    print(\"Using CPU device\")\n",
    "    \n",
    "# Model\n",
    "model = CIFAR10_CNN(num_classes=config.NUM_CLASSES)\n",
    "print_model_summary(model, config)\n",
    "    \n",
    "# Data loaders (MPS-compatible)\n",
    "train_loader, val_loader = get_data_loaders_mps(config)\n",
    "    \n",
    "# Trainer\n",
    "trainer = Trainer(model, config)\n",
    "    \n",
    "# Train\n",
    "trainer.train(train_loader, val_loader, config.NUM_EPOCHS)\n",
    "    \n",
    "print(f\"\\n{'='*50}\")\n",
    "print(f\"Training Complete!\")\n",
    "print(f\"Best Validation Accuracy: {trainer.best_accuracy:.2f}%\")\n",
    "print(f\"{'='*50}\")\n",
    "\n",
    "\n"
   ]
  },
  {
   "cell_type": "code",
   "execution_count": null,
   "id": "4118ee30",
   "metadata": {},
   "outputs": [],
   "source": []
  }
 ],
 "metadata": {
  "kernelspec": {
   "display_name": "base",
   "language": "python",
   "name": "python3"
  },
  "language_info": {
   "codemirror_mode": {
    "name": "ipython",
    "version": 3
   },
   "file_extension": ".py",
   "mimetype": "text/x-python",
   "name": "python",
   "nbconvert_exporter": "python",
   "pygments_lexer": "ipython3",
   "version": "3.12.7"
  }
 },
 "nbformat": 4,
 "nbformat_minor": 5
}
