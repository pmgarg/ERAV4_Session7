{
 "cells": [
  {
   "cell_type": "code",
   "execution_count": 1,
   "id": "b01f52d4",
   "metadata": {},
   "outputs": [
    {
     "name": "stdout",
     "output_type": "stream",
     "text": [
      "Using MPS (Metal Performance Shaders) device\n",
      "\n",
      "==================================================\n",
      "Model: CIFAR-10 Advanced CNN\n",
      "==================================================\n",
      "Total Parameters: 175,018\n",
      "Receptive Field: 45\n",
      "Architecture: C1-C2-C3-C4-GAP-FC\n",
      "Depthwise Separable Conv: ✓ (in C2)\n",
      "Dilated Convolution: ✓ (in C3 and C4)\n",
      "Global Average Pooling: ✓\n",
      "Target Accuracy: 85%\n",
      "Parameter Limit: 200,000\n",
      "==================================================\n",
      "\n",
      "Detected Mac/MPS environment. Using num_workers=0, pin_memory=False\n",
      "\n",
      "Epoch 1/50\n"
     ]
    },
    {
     "name": "stderr",
     "output_type": "stream",
     "text": [
      "Training: 100%|██████████| 391/391 [00:23<00:00, 16.89it/s, loss=1.74, acc=34.9] \n",
      "Validation: 100%|██████████| 79/79 [00:01<00:00, 50.37it/s, loss=1.41, acc=47.9] \n"
     ]
    },
    {
     "name": "stdout",
     "output_type": "stream",
     "text": [
      "Train Loss: 1.7420, Train Acc: 34.91%\n",
      "Val Loss: 1.4086, Val Acc: 47.89%\n",
      "Best model saved! Accuracy: 47.89%\n",
      "\n",
      "Epoch 2/50\n"
     ]
    },
    {
     "name": "stderr",
     "output_type": "stream",
     "text": [
      "Training: 100%|██████████| 391/391 [00:22<00:00, 17.14it/s, loss=1.41, acc=48.7] \n",
      "Validation: 100%|██████████| 79/79 [00:01<00:00, 52.45it/s, loss=1.47, acc=49.9] \n"
     ]
    },
    {
     "name": "stdout",
     "output_type": "stream",
     "text": [
      "Train Loss: 1.4110, Train Acc: 48.68%\n",
      "Val Loss: 1.4663, Val Acc: 49.93%\n",
      "Best model saved! Accuracy: 49.93%\n",
      "\n",
      "Epoch 3/50\n"
     ]
    },
    {
     "name": "stderr",
     "output_type": "stream",
     "text": [
      "Training: 100%|██████████| 391/391 [00:22<00:00, 17.11it/s, loss=1.3, acc=52.9]  \n",
      "Validation: 100%|██████████| 79/79 [00:01<00:00, 52.58it/s, loss=1.18, acc=57.6] \n"
     ]
    },
    {
     "name": "stdout",
     "output_type": "stream",
     "text": [
      "Train Loss: 1.3024, Train Acc: 52.86%\n",
      "Val Loss: 1.1766, Val Acc: 57.57%\n",
      "Best model saved! Accuracy: 57.57%\n",
      "\n",
      "Epoch 4/50\n"
     ]
    },
    {
     "name": "stderr",
     "output_type": "stream",
     "text": [
      "Training: 100%|██████████| 391/391 [00:22<00:00, 17.19it/s, loss=1.23, acc=55.5] \n",
      "Validation: 100%|██████████| 79/79 [00:01<00:00, 52.39it/s, loss=1.02, acc=63.6] \n"
     ]
    },
    {
     "name": "stdout",
     "output_type": "stream",
     "text": [
      "Train Loss: 1.2283, Train Acc: 55.52%\n",
      "Val Loss: 1.0226, Val Acc: 63.61%\n",
      "Best model saved! Accuracy: 63.61%\n",
      "\n",
      "Epoch 5/50\n"
     ]
    },
    {
     "name": "stderr",
     "output_type": "stream",
     "text": [
      "Training: 100%|██████████| 391/391 [00:22<00:00, 17.06it/s, loss=1.18, acc=57.9] \n",
      "Validation: 100%|██████████| 79/79 [00:01<00:00, 52.33it/s, loss=1.05, acc=63]   \n"
     ]
    },
    {
     "name": "stdout",
     "output_type": "stream",
     "text": [
      "Train Loss: 1.1758, Train Acc: 57.95%\n",
      "Val Loss: 1.0522, Val Acc: 62.99%\n",
      "\n",
      "Epoch 6/50\n"
     ]
    },
    {
     "name": "stderr",
     "output_type": "stream",
     "text": [
      "Training: 100%|██████████| 391/391 [00:22<00:00, 17.11it/s, loss=1.12, acc=59.7] \n",
      "Validation: 100%|██████████| 79/79 [00:01<00:00, 52.37it/s, loss=1.39, acc=55.2] \n"
     ]
    },
    {
     "name": "stdout",
     "output_type": "stream",
     "text": [
      "Train Loss: 1.1173, Train Acc: 59.75%\n",
      "Val Loss: 1.3918, Val Acc: 55.19%\n",
      "\n",
      "Epoch 7/50\n"
     ]
    },
    {
     "name": "stderr",
     "output_type": "stream",
     "text": [
      "Training: 100%|██████████| 391/391 [00:22<00:00, 17.22it/s, loss=1.08, acc=61.9] \n",
      "Validation: 100%|██████████| 79/79 [00:01<00:00, 52.32it/s, loss=1.01, acc=64.3] \n"
     ]
    },
    {
     "name": "stdout",
     "output_type": "stream",
     "text": [
      "Train Loss: 1.0755, Train Acc: 61.88%\n",
      "Val Loss: 1.0128, Val Acc: 64.27%\n",
      "Best model saved! Accuracy: 64.27%\n",
      "\n",
      "Epoch 8/50\n"
     ]
    },
    {
     "name": "stderr",
     "output_type": "stream",
     "text": [
      "Training: 100%|██████████| 391/391 [00:22<00:00, 17.06it/s, loss=1.03, acc=63.2] \n",
      "Validation: 100%|██████████| 79/79 [00:01<00:00, 52.43it/s, loss=0.886, acc=69.4]\n"
     ]
    },
    {
     "name": "stdout",
     "output_type": "stream",
     "text": [
      "Train Loss: 1.0306, Train Acc: 63.21%\n",
      "Val Loss: 0.8859, Val Acc: 69.42%\n",
      "Best model saved! Accuracy: 69.42%\n",
      "\n",
      "Epoch 9/50\n"
     ]
    },
    {
     "name": "stderr",
     "output_type": "stream",
     "text": [
      "Training: 100%|██████████| 391/391 [00:22<00:00, 17.20it/s, loss=0.996, acc=64.7]\n",
      "Validation: 100%|██████████| 79/79 [00:01<00:00, 52.68it/s, loss=0.854, acc=69.6]\n"
     ]
    },
    {
     "name": "stdout",
     "output_type": "stream",
     "text": [
      "Train Loss: 0.9958, Train Acc: 64.68%\n",
      "Val Loss: 0.8544, Val Acc: 69.61%\n",
      "Best model saved! Accuracy: 69.61%\n",
      "\n",
      "Epoch 10/50\n"
     ]
    },
    {
     "name": "stderr",
     "output_type": "stream",
     "text": [
      "Training: 100%|██████████| 391/391 [00:23<00:00, 16.74it/s, loss=0.964, acc=66]  \n",
      "Validation: 100%|██████████| 79/79 [00:01<00:00, 51.85it/s, loss=0.902, acc=69.6]\n"
     ]
    },
    {
     "name": "stdout",
     "output_type": "stream",
     "text": [
      "Train Loss: 0.9638, Train Acc: 65.95%\n",
      "Val Loss: 0.9021, Val Acc: 69.62%\n",
      "Best model saved! Accuracy: 69.62%\n",
      "\n",
      "Epoch 11/50\n"
     ]
    },
    {
     "name": "stderr",
     "output_type": "stream",
     "text": [
      "Training: 100%|██████████| 391/391 [00:23<00:00, 16.38it/s, loss=0.94, acc=66.9] \n",
      "Validation: 100%|██████████| 79/79 [00:01<00:00, 51.69it/s, loss=0.765, acc=73.3]\n"
     ]
    },
    {
     "name": "stdout",
     "output_type": "stream",
     "text": [
      "Train Loss: 0.9399, Train Acc: 66.89%\n",
      "Val Loss: 0.7646, Val Acc: 73.32%\n",
      "Best model saved! Accuracy: 73.32%\n",
      "\n",
      "Epoch 12/50\n"
     ]
    },
    {
     "name": "stderr",
     "output_type": "stream",
     "text": [
      "Training: 100%|██████████| 391/391 [00:23<00:00, 16.39it/s, loss=0.917, acc=67.8]\n",
      "Validation: 100%|██████████| 79/79 [00:01<00:00, 52.27it/s, loss=0.889, acc=71]  \n"
     ]
    },
    {
     "name": "stdout",
     "output_type": "stream",
     "text": [
      "Train Loss: 0.9175, Train Acc: 67.83%\n",
      "Val Loss: 0.8890, Val Acc: 70.99%\n",
      "\n",
      "Epoch 13/50\n"
     ]
    },
    {
     "name": "stderr",
     "output_type": "stream",
     "text": [
      "Training: 100%|██████████| 391/391 [00:23<00:00, 16.34it/s, loss=0.895, acc=68.6]\n",
      "Validation: 100%|██████████| 79/79 [00:01<00:00, 51.87it/s, loss=0.844, acc=71.1]\n"
     ]
    },
    {
     "name": "stdout",
     "output_type": "stream",
     "text": [
      "Train Loss: 0.8947, Train Acc: 68.56%\n",
      "Val Loss: 0.8441, Val Acc: 71.09%\n",
      "\n",
      "Epoch 14/50\n"
     ]
    },
    {
     "name": "stderr",
     "output_type": "stream",
     "text": [
      "Training: 100%|██████████| 391/391 [00:23<00:00, 16.52it/s, loss=0.881, acc=69.1]\n",
      "Validation: 100%|██████████| 79/79 [00:01<00:00, 51.77it/s, loss=0.716, acc=75.9]\n"
     ]
    },
    {
     "name": "stdout",
     "output_type": "stream",
     "text": [
      "Train Loss: 0.8809, Train Acc: 69.06%\n",
      "Val Loss: 0.7156, Val Acc: 75.94%\n",
      "Best model saved! Accuracy: 75.94%\n",
      "\n",
      "Epoch 15/50\n"
     ]
    },
    {
     "name": "stderr",
     "output_type": "stream",
     "text": [
      "Training: 100%|██████████| 391/391 [00:23<00:00, 16.53it/s, loss=0.858, acc=69.8]\n",
      "Validation: 100%|██████████| 79/79 [00:01<00:00, 51.93it/s, loss=0.818, acc=73.4]\n"
     ]
    },
    {
     "name": "stdout",
     "output_type": "stream",
     "text": [
      "Train Loss: 0.8585, Train Acc: 69.84%\n",
      "Val Loss: 0.8185, Val Acc: 73.37%\n",
      "\n",
      "Epoch 16/50\n"
     ]
    },
    {
     "name": "stderr",
     "output_type": "stream",
     "text": [
      "Training: 100%|██████████| 391/391 [00:23<00:00, 16.70it/s, loss=0.853, acc=70.2]\n",
      "Validation: 100%|██████████| 79/79 [00:01<00:00, 52.09it/s, loss=0.742, acc=74.4] \n"
     ]
    },
    {
     "name": "stdout",
     "output_type": "stream",
     "text": [
      "Train Loss: 0.8533, Train Acc: 70.22%\n",
      "Val Loss: 0.7424, Val Acc: 74.36%\n",
      "\n",
      "Epoch 17/50\n"
     ]
    },
    {
     "name": "stderr",
     "output_type": "stream",
     "text": [
      "Training: 100%|██████████| 391/391 [00:23<00:00, 16.69it/s, loss=0.833, acc=70.6]\n",
      "Validation: 100%|██████████| 79/79 [00:01<00:00, 52.28it/s, loss=0.711, acc=75.5]\n"
     ]
    },
    {
     "name": "stdout",
     "output_type": "stream",
     "text": [
      "Train Loss: 0.8328, Train Acc: 70.61%\n",
      "Val Loss: 0.7105, Val Acc: 75.45%\n",
      "\n",
      "Epoch 18/50\n"
     ]
    },
    {
     "name": "stderr",
     "output_type": "stream",
     "text": [
      "Training: 100%|██████████| 391/391 [00:23<00:00, 16.71it/s, loss=0.829, acc=70.9]\n",
      "Validation: 100%|██████████| 79/79 [00:01<00:00, 52.17it/s, loss=0.717, acc=74.7]\n"
     ]
    },
    {
     "name": "stdout",
     "output_type": "stream",
     "text": [
      "Train Loss: 0.8292, Train Acc: 70.89%\n",
      "Val Loss: 0.7172, Val Acc: 74.68%\n",
      "\n",
      "Epoch 19/50\n"
     ]
    },
    {
     "name": "stderr",
     "output_type": "stream",
     "text": [
      "Training: 100%|██████████| 391/391 [00:23<00:00, 16.72it/s, loss=0.815, acc=71.2]\n",
      "Validation: 100%|██████████| 79/79 [00:01<00:00, 52.15it/s, loss=0.69, acc=76.5] \n"
     ]
    },
    {
     "name": "stdout",
     "output_type": "stream",
     "text": [
      "Train Loss: 0.8155, Train Acc: 71.24%\n",
      "Val Loss: 0.6899, Val Acc: 76.48%\n",
      "Best model saved! Accuracy: 76.48%\n",
      "\n",
      "Epoch 20/50\n"
     ]
    },
    {
     "name": "stderr",
     "output_type": "stream",
     "text": [
      "Training: 100%|██████████| 391/391 [00:23<00:00, 16.77it/s, loss=0.804, acc=72]  \n",
      "Validation: 100%|██████████| 79/79 [00:01<00:00, 52.16it/s, loss=0.732, acc=74.8]\n"
     ]
    },
    {
     "name": "stdout",
     "output_type": "stream",
     "text": [
      "Train Loss: 0.8041, Train Acc: 71.98%\n",
      "Val Loss: 0.7320, Val Acc: 74.78%\n",
      "\n",
      "Epoch 21/50\n"
     ]
    },
    {
     "name": "stderr",
     "output_type": "stream",
     "text": [
      "Training: 100%|██████████| 391/391 [00:23<00:00, 16.72it/s, loss=0.791, acc=72.1]\n",
      "Validation: 100%|██████████| 79/79 [00:01<00:00, 52.17it/s, loss=0.703, acc=76.4]\n"
     ]
    },
    {
     "name": "stdout",
     "output_type": "stream",
     "text": [
      "Train Loss: 0.7908, Train Acc: 72.12%\n",
      "Val Loss: 0.7032, Val Acc: 76.41%\n",
      "\n",
      "Epoch 22/50\n"
     ]
    },
    {
     "name": "stderr",
     "output_type": "stream",
     "text": [
      "Training: 100%|██████████| 391/391 [00:23<00:00, 16.77it/s, loss=0.786, acc=72.3]\n",
      "Validation: 100%|██████████| 79/79 [00:01<00:00, 52.32it/s, loss=0.66, acc=77.5]  \n"
     ]
    },
    {
     "name": "stdout",
     "output_type": "stream",
     "text": [
      "Train Loss: 0.7857, Train Acc: 72.33%\n",
      "Val Loss: 0.6598, Val Acc: 77.48%\n",
      "Best model saved! Accuracy: 77.48%\n",
      "\n",
      "Epoch 23/50\n"
     ]
    },
    {
     "name": "stderr",
     "output_type": "stream",
     "text": [
      "Training: 100%|██████████| 391/391 [00:23<00:00, 16.72it/s, loss=0.782, acc=72.5]\n",
      "Validation: 100%|██████████| 79/79 [00:01<00:00, 52.24it/s, loss=0.645, acc=77.5] \n"
     ]
    },
    {
     "name": "stdout",
     "output_type": "stream",
     "text": [
      "Train Loss: 0.7817, Train Acc: 72.53%\n",
      "Val Loss: 0.6453, Val Acc: 77.52%\n",
      "Best model saved! Accuracy: 77.52%\n",
      "\n",
      "Epoch 24/50\n"
     ]
    },
    {
     "name": "stderr",
     "output_type": "stream",
     "text": [
      "Training: 100%|██████████| 391/391 [00:23<00:00, 16.68it/s, loss=0.768, acc=73.1]\n",
      "Validation: 100%|██████████| 79/79 [00:01<00:00, 52.21it/s, loss=0.66, acc=77.3]  \n"
     ]
    },
    {
     "name": "stdout",
     "output_type": "stream",
     "text": [
      "Train Loss: 0.7682, Train Acc: 73.14%\n",
      "Val Loss: 0.6604, Val Acc: 77.35%\n",
      "\n",
      "Epoch 25/50\n"
     ]
    },
    {
     "name": "stderr",
     "output_type": "stream",
     "text": [
      "Training: 100%|██████████| 391/391 [00:23<00:00, 16.75it/s, loss=0.762, acc=73.5]\n",
      "Validation: 100%|██████████| 79/79 [00:01<00:00, 52.17it/s, loss=0.619, acc=78.6] \n"
     ]
    },
    {
     "name": "stdout",
     "output_type": "stream",
     "text": [
      "Train Loss: 0.7618, Train Acc: 73.49%\n",
      "Val Loss: 0.6187, Val Acc: 78.64%\n",
      "Best model saved! Accuracy: 78.64%\n",
      "\n",
      "Epoch 26/50\n"
     ]
    },
    {
     "name": "stderr",
     "output_type": "stream",
     "text": [
      "Training: 100%|██████████| 391/391 [00:23<00:00, 16.79it/s, loss=0.757, acc=73.6]\n",
      "Validation: 100%|██████████| 79/79 [00:01<00:00, 52.43it/s, loss=0.602, acc=79.6] \n"
     ]
    },
    {
     "name": "stdout",
     "output_type": "stream",
     "text": [
      "Train Loss: 0.7568, Train Acc: 73.59%\n",
      "Val Loss: 0.6016, Val Acc: 79.59%\n",
      "Best model saved! Accuracy: 79.59%\n",
      "\n",
      "Epoch 27/50\n"
     ]
    },
    {
     "name": "stderr",
     "output_type": "stream",
     "text": [
      "Training: 100%|██████████| 391/391 [00:23<00:00, 16.67it/s, loss=0.751, acc=73.8]\n",
      "Validation: 100%|██████████| 79/79 [00:01<00:00, 51.90it/s, loss=0.596, acc=79.5] \n"
     ]
    },
    {
     "name": "stdout",
     "output_type": "stream",
     "text": [
      "Train Loss: 0.7510, Train Acc: 73.80%\n",
      "Val Loss: 0.5958, Val Acc: 79.53%\n",
      "\n",
      "Epoch 28/50\n"
     ]
    },
    {
     "name": "stderr",
     "output_type": "stream",
     "text": [
      "Training: 100%|██████████| 391/391 [00:23<00:00, 16.80it/s, loss=0.738, acc=74.3]\n",
      "Validation: 100%|██████████| 79/79 [00:01<00:00, 52.26it/s, loss=0.613, acc=78.7] \n"
     ]
    },
    {
     "name": "stdout",
     "output_type": "stream",
     "text": [
      "Train Loss: 0.7381, Train Acc: 74.27%\n",
      "Val Loss: 0.6129, Val Acc: 78.73%\n",
      "\n",
      "Epoch 29/50\n"
     ]
    },
    {
     "name": "stderr",
     "output_type": "stream",
     "text": [
      "Training: 100%|██████████| 391/391 [00:23<00:00, 16.69it/s, loss=0.745, acc=73.9]\n",
      "Validation: 100%|██████████| 79/79 [00:01<00:00, 52.25it/s, loss=0.579, acc=80.4] \n"
     ]
    },
    {
     "name": "stdout",
     "output_type": "stream",
     "text": [
      "Train Loss: 0.7449, Train Acc: 73.88%\n",
      "Val Loss: 0.5790, Val Acc: 80.40%\n",
      "Best model saved! Accuracy: 80.40%\n",
      "\n",
      "Epoch 30/50\n"
     ]
    },
    {
     "name": "stderr",
     "output_type": "stream",
     "text": [
      "Training: 100%|██████████| 391/391 [00:23<00:00, 16.77it/s, loss=0.731, acc=74.2]\n",
      "Validation: 100%|██████████| 79/79 [00:01<00:00, 52.34it/s, loss=0.616, acc=78.9] \n"
     ]
    },
    {
     "name": "stdout",
     "output_type": "stream",
     "text": [
      "Train Loss: 0.7310, Train Acc: 74.23%\n",
      "Val Loss: 0.6161, Val Acc: 78.92%\n",
      "\n",
      "Epoch 31/50\n"
     ]
    },
    {
     "name": "stderr",
     "output_type": "stream",
     "text": [
      "Training: 100%|██████████| 391/391 [00:23<00:00, 16.73it/s, loss=0.726, acc=74.8]\n",
      "Validation: 100%|██████████| 79/79 [00:01<00:00, 52.12it/s, loss=0.546, acc=81.2] \n"
     ]
    },
    {
     "name": "stdout",
     "output_type": "stream",
     "text": [
      "Train Loss: 0.7257, Train Acc: 74.84%\n",
      "Val Loss: 0.5456, Val Acc: 81.17%\n",
      "Best model saved! Accuracy: 81.17%\n",
      "\n",
      "Epoch 32/50\n"
     ]
    },
    {
     "name": "stderr",
     "output_type": "stream",
     "text": [
      "Training: 100%|██████████| 391/391 [00:23<00:00, 16.65it/s, loss=0.716, acc=75]  \n",
      "Validation: 100%|██████████| 79/79 [00:01<00:00, 50.63it/s, loss=0.69, acc=76.4]  \n"
     ]
    },
    {
     "name": "stdout",
     "output_type": "stream",
     "text": [
      "Train Loss: 0.7161, Train Acc: 74.95%\n",
      "Val Loss: 0.6900, Val Acc: 76.38%\n",
      "\n",
      "Epoch 33/50\n"
     ]
    },
    {
     "name": "stderr",
     "output_type": "stream",
     "text": [
      "Training: 100%|██████████| 391/391 [00:23<00:00, 16.77it/s, loss=0.708, acc=75]  \n",
      "Validation: 100%|██████████| 79/79 [00:01<00:00, 51.98it/s, loss=0.646, acc=78.2] \n"
     ]
    },
    {
     "name": "stdout",
     "output_type": "stream",
     "text": [
      "Train Loss: 0.7084, Train Acc: 75.04%\n",
      "Val Loss: 0.6459, Val Acc: 78.15%\n",
      "\n",
      "Epoch 34/50\n"
     ]
    },
    {
     "name": "stderr",
     "output_type": "stream",
     "text": [
      "Training: 100%|██████████| 391/391 [00:23<00:00, 16.80it/s, loss=0.703, acc=75.7]\n",
      "Validation: 100%|██████████| 79/79 [00:01<00:00, 52.19it/s, loss=0.599, acc=79.5] \n"
     ]
    },
    {
     "name": "stdout",
     "output_type": "stream",
     "text": [
      "Train Loss: 0.7028, Train Acc: 75.67%\n",
      "Val Loss: 0.5988, Val Acc: 79.47%\n",
      "\n",
      "Epoch 35/50\n"
     ]
    },
    {
     "name": "stderr",
     "output_type": "stream",
     "text": [
      "Training: 100%|██████████| 391/391 [00:23<00:00, 16.67it/s, loss=0.693, acc=75.8]\n",
      "Validation: 100%|██████████| 79/79 [00:01<00:00, 52.22it/s, loss=0.539, acc=81.5] \n"
     ]
    },
    {
     "name": "stdout",
     "output_type": "stream",
     "text": [
      "Train Loss: 0.6931, Train Acc: 75.84%\n",
      "Val Loss: 0.5392, Val Acc: 81.47%\n",
      "Best model saved! Accuracy: 81.47%\n",
      "\n",
      "Epoch 36/50\n"
     ]
    },
    {
     "name": "stderr",
     "output_type": "stream",
     "text": [
      "Training: 100%|██████████| 391/391 [00:23<00:00, 16.76it/s, loss=0.688, acc=76]  \n",
      "Validation: 100%|██████████| 79/79 [00:01<00:00, 52.14it/s, loss=0.52, acc=82.4]  \n"
     ]
    },
    {
     "name": "stdout",
     "output_type": "stream",
     "text": [
      "Train Loss: 0.6879, Train Acc: 76.05%\n",
      "Val Loss: 0.5201, Val Acc: 82.41%\n",
      "Best model saved! Accuracy: 82.41%\n",
      "\n",
      "Epoch 37/50\n"
     ]
    },
    {
     "name": "stderr",
     "output_type": "stream",
     "text": [
      "Training: 100%|██████████| 391/391 [00:23<00:00, 16.83it/s, loss=0.679, acc=76.2]\n",
      "Validation: 100%|██████████| 79/79 [00:01<00:00, 52.10it/s, loss=0.508, acc=82.6] \n"
     ]
    },
    {
     "name": "stdout",
     "output_type": "stream",
     "text": [
      "Train Loss: 0.6790, Train Acc: 76.20%\n",
      "Val Loss: 0.5076, Val Acc: 82.63%\n",
      "Best model saved! Accuracy: 82.63%\n",
      "\n",
      "Epoch 38/50\n"
     ]
    },
    {
     "name": "stderr",
     "output_type": "stream",
     "text": [
      "Training: 100%|██████████| 391/391 [00:23<00:00, 16.72it/s, loss=0.664, acc=76.9]\n",
      "Validation: 100%|██████████| 79/79 [00:01<00:00, 51.94it/s, loss=0.52, acc=82]    \n"
     ]
    },
    {
     "name": "stdout",
     "output_type": "stream",
     "text": [
      "Train Loss: 0.6642, Train Acc: 76.94%\n",
      "Val Loss: 0.5200, Val Acc: 81.95%\n",
      "\n",
      "Epoch 39/50\n"
     ]
    },
    {
     "name": "stderr",
     "output_type": "stream",
     "text": [
      "Training: 100%|██████████| 391/391 [00:23<00:00, 16.79it/s, loss=0.653, acc=77.2]\n",
      "Validation: 100%|██████████| 79/79 [00:01<00:00, 52.20it/s, loss=0.508, acc=82.6] \n"
     ]
    },
    {
     "name": "stdout",
     "output_type": "stream",
     "text": [
      "Train Loss: 0.6527, Train Acc: 77.21%\n",
      "Val Loss: 0.5085, Val Acc: 82.62%\n",
      "\n",
      "Epoch 40/50\n"
     ]
    },
    {
     "name": "stderr",
     "output_type": "stream",
     "text": [
      "Training: 100%|██████████| 391/391 [00:23<00:00, 16.72it/s, loss=0.646, acc=77.4]\n",
      "Validation: 100%|██████████| 79/79 [00:01<00:00, 52.21it/s, loss=0.49, acc=83.2]  \n"
     ]
    },
    {
     "name": "stdout",
     "output_type": "stream",
     "text": [
      "Train Loss: 0.6464, Train Acc: 77.43%\n",
      "Val Loss: 0.4899, Val Acc: 83.18%\n",
      "Best model saved! Accuracy: 83.18%\n",
      "\n",
      "Epoch 41/50\n"
     ]
    },
    {
     "name": "stderr",
     "output_type": "stream",
     "text": [
      "Training: 100%|██████████| 391/391 [00:23<00:00, 16.80it/s, loss=0.637, acc=77.7]\n",
      "Validation: 100%|██████████| 79/79 [00:01<00:00, 52.00it/s, loss=0.52, acc=82.2]  \n"
     ]
    },
    {
     "name": "stdout",
     "output_type": "stream",
     "text": [
      "Train Loss: 0.6371, Train Acc: 77.75%\n",
      "Val Loss: 0.5201, Val Acc: 82.18%\n",
      "\n",
      "Epoch 42/50\n"
     ]
    },
    {
     "name": "stderr",
     "output_type": "stream",
     "text": [
      "Training: 100%|██████████| 391/391 [00:23<00:00, 16.77it/s, loss=0.621, acc=78.4]\n",
      "Validation: 100%|██████████| 79/79 [00:01<00:00, 52.34it/s, loss=0.466, acc=83.6] \n"
     ]
    },
    {
     "name": "stdout",
     "output_type": "stream",
     "text": [
      "Train Loss: 0.6215, Train Acc: 78.38%\n",
      "Val Loss: 0.4661, Val Acc: 83.57%\n",
      "Best model saved! Accuracy: 83.57%\n",
      "\n",
      "Epoch 43/50\n"
     ]
    },
    {
     "name": "stderr",
     "output_type": "stream",
     "text": [
      "Training: 100%|██████████| 391/391 [00:23<00:00, 16.77it/s, loss=0.614, acc=78.6]\n",
      "Validation: 100%|██████████| 79/79 [00:01<00:00, 52.21it/s, loss=0.453, acc=83.9] \n"
     ]
    },
    {
     "name": "stdout",
     "output_type": "stream",
     "text": [
      "Train Loss: 0.6141, Train Acc: 78.60%\n",
      "Val Loss: 0.4528, Val Acc: 83.91%\n",
      "Best model saved! Accuracy: 83.91%\n",
      "\n",
      "Epoch 44/50\n"
     ]
    },
    {
     "name": "stderr",
     "output_type": "stream",
     "text": [
      "Training: 100%|██████████| 391/391 [00:23<00:00, 16.72it/s, loss=0.599, acc=79.1]\n",
      "Validation: 100%|██████████| 79/79 [00:01<00:00, 52.11it/s, loss=0.441, acc=84.4] \n"
     ]
    },
    {
     "name": "stdout",
     "output_type": "stream",
     "text": [
      "Train Loss: 0.5994, Train Acc: 79.07%\n",
      "Val Loss: 0.4412, Val Acc: 84.38%\n",
      "Best model saved! Accuracy: 84.38%\n",
      "\n",
      "Epoch 45/50\n"
     ]
    },
    {
     "name": "stderr",
     "output_type": "stream",
     "text": [
      "Training: 100%|██████████| 391/391 [00:23<00:00, 16.75it/s, loss=0.591, acc=79.3]\n",
      "Validation: 100%|██████████| 79/79 [00:01<00:00, 52.11it/s, loss=0.429, acc=84.8] \n"
     ]
    },
    {
     "name": "stdout",
     "output_type": "stream",
     "text": [
      "Train Loss: 0.5913, Train Acc: 79.34%\n",
      "Val Loss: 0.4288, Val Acc: 84.80%\n",
      "Best model saved! Accuracy: 84.80%\n",
      "\n",
      "Epoch 46/50\n"
     ]
    },
    {
     "name": "stderr",
     "output_type": "stream",
     "text": [
      "Training: 100%|██████████| 391/391 [00:23<00:00, 16.81it/s, loss=0.581, acc=79.7]\n",
      "Validation: 100%|██████████| 79/79 [00:01<00:00, 52.12it/s, loss=0.429, acc=85.1] \n"
     ]
    },
    {
     "name": "stdout",
     "output_type": "stream",
     "text": [
      "Train Loss: 0.5808, Train Acc: 79.69%\n",
      "Val Loss: 0.4294, Val Acc: 85.07%\n",
      "Best model saved! Accuracy: 85.07%\n",
      "\n",
      "Epoch 47/50\n"
     ]
    },
    {
     "name": "stderr",
     "output_type": "stream",
     "text": [
      "Training: 100%|██████████| 391/391 [00:23<00:00, 16.74it/s, loss=0.571, acc=80]  \n",
      "Validation: 100%|██████████| 79/79 [00:01<00:00, 52.07it/s, loss=0.419, acc=85.2] \n"
     ]
    },
    {
     "name": "stdout",
     "output_type": "stream",
     "text": [
      "Train Loss: 0.5712, Train Acc: 79.99%\n",
      "Val Loss: 0.4189, Val Acc: 85.15%\n",
      "Best model saved! Accuracy: 85.15%\n",
      "\n",
      "Epoch 48/50\n"
     ]
    },
    {
     "name": "stderr",
     "output_type": "stream",
     "text": [
      "Training: 100%|██████████| 391/391 [00:23<00:00, 16.77it/s, loss=0.562, acc=80.4]\n",
      "Validation: 100%|██████████| 79/79 [00:01<00:00, 50.30it/s, loss=0.416, acc=85.5] \n"
     ]
    },
    {
     "name": "stdout",
     "output_type": "stream",
     "text": [
      "Train Loss: 0.5615, Train Acc: 80.39%\n",
      "Val Loss: 0.4165, Val Acc: 85.47%\n",
      "Best model saved! Accuracy: 85.47%\n",
      "\n",
      "Epoch 49/50\n"
     ]
    },
    {
     "name": "stderr",
     "output_type": "stream",
     "text": [
      "Training: 100%|██████████| 391/391 [00:23<00:00, 16.44it/s, loss=0.563, acc=80.4]\n",
      "Validation: 100%|██████████| 79/79 [00:01<00:00, 50.29it/s, loss=0.415, acc=85.4] \n"
     ]
    },
    {
     "name": "stdout",
     "output_type": "stream",
     "text": [
      "Train Loss: 0.5625, Train Acc: 80.40%\n",
      "Val Loss: 0.4146, Val Acc: 85.37%\n",
      "\n",
      "Epoch 50/50\n"
     ]
    },
    {
     "name": "stderr",
     "output_type": "stream",
     "text": [
      "Training: 100%|██████████| 391/391 [00:24<00:00, 16.22it/s, loss=0.557, acc=80.5]\n",
      "Validation: 100%|██████████| 79/79 [00:01<00:00, 51.97it/s, loss=0.415, acc=85.2] "
     ]
    },
    {
     "name": "stdout",
     "output_type": "stream",
     "text": [
      "Train Loss: 0.5573, Train Acc: 80.48%\n",
      "Val Loss: 0.4145, Val Acc: 85.16%\n",
      "\n",
      "==================================================\n",
      "Training Complete!\n",
      "Best Validation Accuracy: 85.47%\n",
      "==================================================\n"
     ]
    },
    {
     "name": "stderr",
     "output_type": "stream",
     "text": [
      "\n"
     ]
    }
   ],
   "source": [
    "import torch\n",
    "import argparse\n",
    "import sys\n",
    "import os\n",
    "\n",
    "from config import Config\n",
    "from model import CIFAR10_CNN\n",
    "from data_loader_mps import get_data_loaders_mps\n",
    "from trainer import Trainer\n",
    "from utils import print_model_summary\n",
    "\n",
    "\n",
    "# Configuration\n",
    "config = Config()\n",
    "    \n",
    "# Detect and set device\n",
    "if torch.backends.mps.is_available():\n",
    "    config.DEVICE = 'mps'\n",
    "    print(\"Using MPS (Metal Performance Shaders) device\")\n",
    "elif torch.cuda.is_available():\n",
    "    config.DEVICE = 'cuda'\n",
    "    print(\"Using CUDA device\")\n",
    "else:\n",
    "    config.DEVICE = 'cpu'\n",
    "    print(\"Using CPU device\")\n",
    "    \n",
    "# Model\n",
    "model = CIFAR10_CNN(num_classes=config.NUM_CLASSES)\n",
    "print_model_summary(model, config)\n",
    "    \n",
    "# Data loaders (MPS-compatible)\n",
    "train_loader, val_loader = get_data_loaders_mps(config)\n",
    "    \n",
    "# Trainer\n",
    "trainer = Trainer(model, config)\n",
    "    \n",
    "# Train\n",
    "trainer.train(train_loader, val_loader, config.NUM_EPOCHS)\n",
    "    \n",
    "print(f\"\\n{'='*50}\")\n",
    "print(f\"Training Complete!\")\n",
    "print(f\"Best Validation Accuracy: {trainer.best_accuracy:.2f}%\")\n",
    "print(f\"{'='*50}\")\n",
    "\n",
    "\n"
   ]
  },
  {
   "cell_type": "code",
   "execution_count": null,
   "id": "4118ee30",
   "metadata": {},
   "outputs": [],
   "source": []
  }
 ],
 "metadata": {
  "kernelspec": {
   "display_name": "base",
   "language": "python",
   "name": "python3"
  },
  "language_info": {
   "codemirror_mode": {
    "name": "ipython",
    "version": 3
   },
   "file_extension": ".py",
   "mimetype": "text/x-python",
   "name": "python",
   "nbconvert_exporter": "python",
   "pygments_lexer": "ipython3",
   "version": "3.12.7"
  }
 },
 "nbformat": 4,
 "nbformat_minor": 5
}
